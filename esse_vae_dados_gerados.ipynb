{
  "nbformat": 4,
  "nbformat_minor": 0,
  "metadata": {
    "colab": {
      "provenance": [],
      "collapsed_sections": [
        "7DENys3jZNGQ"
      ],
      "mount_file_id": "12H70omAg2Y-eeTBCl1Qmlftlq-WKZnGr",
      "authorship_tag": "ABX9TyO6yp1bH670tOI0Vl/jk/nC",
      "include_colab_link": true
    },
    "kernelspec": {
      "name": "python3",
      "display_name": "Python 3"
    },
    "language_info": {
      "name": "python"
    }
  },
  "cells": [
    {
      "cell_type": "markdown",
      "metadata": {
        "id": "view-in-github",
        "colab_type": "text"
      },
      "source": [
        "<a href=\"https://colab.research.google.com/github/larissa-rangel/IA376/blob/main/esse_vae_dados_gerados.ipynb\" target=\"_parent\"><img src=\"https://colab.research.google.com/assets/colab-badge.svg\" alt=\"Open In Colab\"/></a>"
      ]
    },
    {
      "cell_type": "markdown",
      "source": [
        "VAE model for EEG Data Augmentation\n",
        "\n",
        "link: https://github.com/arkanivasarkar/EEG-Data-Augmentation-using-Variational-Autoencoder\n",
        "\n",
        "Paper: https://arxiv.org/pdf/1611.08024.pdf\n",
        "\n",
        "\n",
        "Referências:\n",
        "\n",
        "https://www.tensorflow.org/tutorials/keras/save_and_load?hl=pt-br"
      ],
      "metadata": {
        "id": "vNS3T0yXTsQR"
      }
    },
    {
      "cell_type": "markdown",
      "source": [
        "##Loading libraries"
      ],
      "metadata": {
        "id": "7DENys3jZNGQ"
      }
    },
    {
      "cell_type": "code",
      "execution_count": 39,
      "metadata": {
        "colab": {
          "base_uri": "https://localhost:8080/"
        },
        "id": "x6exzs4gOtSH",
        "outputId": "89be1f83-3b52-4e63-8940-d60501b5d6e1"
      },
      "outputs": [
        {
          "output_type": "stream",
          "name": "stdout",
          "text": [
            "Requirement already satisfied: np_utils in /usr/local/lib/python3.10/dist-packages (0.6.0)\n",
            "Requirement already satisfied: numpy>=1.0 in /usr/local/lib/python3.10/dist-packages (from np_utils) (1.23.5)\n",
            "\u001b[31mERROR: Operation cancelled by user\u001b[0m\u001b[31m\n",
            "\u001b[0m"
          ]
        }
      ],
      "source": [
        "pip install np_utils"
      ]
    },
    {
      "cell_type": "code",
      "execution_count": 40,
      "metadata": {
        "id": "dp4sLEV0OMux",
        "colab": {
          "base_uri": "https://localhost:8080/"
        },
        "outputId": "7a5c0972-05b8-4dee-b855-f63dcfb74d16"
      },
      "outputs": [
        {
          "output_type": "stream",
          "name": "stdout",
          "text": [
            "Requirement already satisfied: braindecode==0.7 in /usr/local/lib/python3.10/dist-packages (0.7)\n",
            "Requirement already satisfied: mne in /usr/local/lib/python3.10/dist-packages (from braindecode==0.7) (1.5.1)\n",
            "Requirement already satisfied: numpy in /usr/local/lib/python3.10/dist-packages (from braindecode==0.7) (1.23.5)\n",
            "Requirement already satisfied: pandas in /usr/local/lib/python3.10/dist-packages (from braindecode==0.7) (1.5.3)\n",
            "Requirement already satisfied: scipy in /usr/local/lib/python3.10/dist-packages (from braindecode==0.7) (1.11.3)\n",
            "Requirement already satisfied: matplotlib in /usr/local/lib/python3.10/dist-packages (from braindecode==0.7) (3.7.1)\n",
            "Requirement already satisfied: h5py in /usr/local/lib/python3.10/dist-packages (from braindecode==0.7) (3.8.0)\n",
            "Requirement already satisfied: skorch in /usr/local/lib/python3.10/dist-packages (from braindecode==0.7) (0.15.0)\n",
            "Requirement already satisfied: contourpy>=1.0.1 in /usr/local/lib/python3.10/dist-packages (from matplotlib->braindecode==0.7) (1.2.0)\n",
            "Requirement already satisfied: cycler>=0.10 in /usr/local/lib/python3.10/dist-packages (from matplotlib->braindecode==0.7) (0.12.1)\n",
            "Requirement already satisfied: fonttools>=4.22.0 in /usr/local/lib/python3.10/dist-packages (from matplotlib->braindecode==0.7) (4.44.3)\n",
            "Requirement already satisfied: kiwisolver>=1.0.1 in /usr/local/lib/python3.10/dist-packages (from matplotlib->braindecode==0.7) (1.4.5)\n",
            "Requirement already satisfied: packaging>=20.0 in /usr/local/lib/python3.10/dist-packages (from matplotlib->braindecode==0.7) (23.2)\n",
            "Requirement already satisfied: pillow>=6.2.0 in /usr/local/lib/python3.10/dist-packages (from matplotlib->braindecode==0.7) (9.4.0)\n",
            "Requirement already satisfied: pyparsing>=2.3.1 in /usr/local/lib/python3.10/dist-packages (from matplotlib->braindecode==0.7) (3.1.1)\n",
            "Requirement already satisfied: python-dateutil>=2.7 in /usr/local/lib/python3.10/dist-packages (from matplotlib->braindecode==0.7) (2.8.2)\n",
            "Requirement already satisfied: tqdm in /usr/local/lib/python3.10/dist-packages (from mne->braindecode==0.7) (4.66.1)\n",
            "Requirement already satisfied: pooch>=1.5 in /usr/local/lib/python3.10/dist-packages (from mne->braindecode==0.7) (1.8.0)\n",
            "Requirement already satisfied: decorator in /usr/local/lib/python3.10/dist-packages (from mne->braindecode==0.7) (4.4.2)\n",
            "Requirement already satisfied: jinja2 in /usr/local/lib/python3.10/dist-packages (from mne->braindecode==0.7) (3.1.2)\n",
            "Requirement already satisfied: pytz>=2020.1 in /usr/local/lib/python3.10/dist-packages (from pandas->braindecode==0.7) (2023.3.post1)\n",
            "Requirement already satisfied: scikit-learn>=0.22.0 in /usr/local/lib/python3.10/dist-packages (from skorch->braindecode==0.7) (1.2.2)\n",
            "Requirement already satisfied: tabulate>=0.7.7 in /usr/local/lib/python3.10/dist-packages (from skorch->braindecode==0.7) (0.9.0)\n",
            "Requirement already satisfied: platformdirs>=2.5.0 in /usr/local/lib/python3.10/dist-packages (from pooch>=1.5->mne->braindecode==0.7) (4.0.0)\n",
            "Requirement already satisfied: requests>=2.19.0 in /usr/local/lib/python3.10/dist-packages (from pooch>=1.5->mne->braindecode==0.7) (2.31.0)\n",
            "Requirement already satisfied: six>=1.5 in /usr/local/lib/python3.10/dist-packages (from python-dateutil>=2.7->matplotlib->braindecode==0.7) (1.16.0)\n",
            "Requirement already satisfied: joblib>=1.1.1 in /usr/local/lib/python3.10/dist-packages (from scikit-learn>=0.22.0->skorch->braindecode==0.7) (1.3.2)\n",
            "Requirement already satisfied: threadpoolctl>=2.0.0 in /usr/local/lib/python3.10/dist-packages (from scikit-learn>=0.22.0->skorch->braindecode==0.7) (3.2.0)\n",
            "Requirement already satisfied: MarkupSafe>=2.0 in /usr/local/lib/python3.10/dist-packages (from jinja2->mne->braindecode==0.7) (2.1.3)\n",
            "Requirement already satisfied: charset-normalizer<4,>=2 in /usr/local/lib/python3.10/dist-packages (from requests>=2.19.0->pooch>=1.5->mne->braindecode==0.7) (3.3.2)\n",
            "Requirement already satisfied: idna<4,>=2.5 in /usr/local/lib/python3.10/dist-packages (from requests>=2.19.0->pooch>=1.5->mne->braindecode==0.7) (3.4)\n",
            "Requirement already satisfied: urllib3<3,>=1.21.1 in /usr/local/lib/python3.10/dist-packages (from requests>=2.19.0->pooch>=1.5->mne->braindecode==0.7) (1.26.18)\n",
            "Requirement already satisfied: certifi>=2017.4.17 in /usr/local/lib/python3.10/dist-packages (from requests>=2.19.0->pooch>=1.5->mne->braindecode==0.7) (2023.7.22)\n",
            "Requirement already satisfied: moabb in /usr/local/lib/python3.10/dist-packages (1.0.0)\n",
            "Requirement already satisfied: PyYAML<7.0,>=6.0 in /usr/local/lib/python3.10/dist-packages (from moabb) (6.0.1)\n",
            "Requirement already satisfied: coverage<8.0.0,>=7.0.1 in /usr/local/lib/python3.10/dist-packages (from moabb) (7.3.2)\n",
            "Requirement already satisfied: edflib-python<2.0.0,>=1.0.6 in /usr/local/lib/python3.10/dist-packages (from moabb) (1.0.8)\n",
            "Requirement already satisfied: h5py<=3.8.0 in /usr/local/lib/python3.10/dist-packages (from moabb) (3.8.0)\n",
            "Requirement already satisfied: matplotlib<4.0.0,>=3.6.2 in /usr/local/lib/python3.10/dist-packages (from moabb) (3.7.1)\n",
            "Requirement already satisfied: memory-profiler<0.62.0,>=0.61.0 in /usr/local/lib/python3.10/dist-packages (from moabb) (0.61.0)\n",
            "Requirement already satisfied: mne<2.0,>=1.4 in /usr/local/lib/python3.10/dist-packages (from moabb) (1.5.1)\n",
            "Requirement already satisfied: mne-bids<0.14,>=0.13 in /usr/local/lib/python3.10/dist-packages (from moabb) (0.13)\n",
            "Requirement already satisfied: numpy<2.0,>=1.22 in /usr/local/lib/python3.10/dist-packages (from moabb) (1.23.5)\n",
            "Requirement already satisfied: pandas<2.0.0,>=1.5.2 in /usr/local/lib/python3.10/dist-packages (from moabb) (1.5.3)\n",
            "Requirement already satisfied: pooch<2.0.0,>=1.6.0 in /usr/local/lib/python3.10/dist-packages (from moabb) (1.8.0)\n",
            "Requirement already satisfied: pyriemann<0.6,>=0.5 in /usr/local/lib/python3.10/dist-packages (from moabb) (0.5)\n",
            "Requirement already satisfied: pytest<8.0.0,>=7.4.0 in /usr/local/lib/python3.10/dist-packages (from moabb) (7.4.3)\n",
            "Requirement already satisfied: requests<3.0.0,>=2.28.1 in /usr/local/lib/python3.10/dist-packages (from moabb) (2.31.0)\n",
            "Requirement already satisfied: scikit-learn<2.0.0,>=1.2.0 in /usr/local/lib/python3.10/dist-packages (from moabb) (1.2.2)\n",
            "Requirement already satisfied: scipy<2.0.0,>=1.9.3 in /usr/local/lib/python3.10/dist-packages (from moabb) (1.11.3)\n",
            "Requirement already satisfied: seaborn<0.13.0,>=0.12.1 in /usr/local/lib/python3.10/dist-packages (from moabb) (0.12.2)\n",
            "Requirement already satisfied: tqdm<5.0.0,>=4.64.1 in /usr/local/lib/python3.10/dist-packages (from moabb) (4.66.1)\n",
            "Requirement already satisfied: urllib3<2.0.0,>=1.26.15 in /usr/local/lib/python3.10/dist-packages (from moabb) (1.26.18)\n",
            "Requirement already satisfied: contourpy>=1.0.1 in /usr/local/lib/python3.10/dist-packages (from matplotlib<4.0.0,>=3.6.2->moabb) (1.2.0)\n",
            "Requirement already satisfied: cycler>=0.10 in /usr/local/lib/python3.10/dist-packages (from matplotlib<4.0.0,>=3.6.2->moabb) (0.12.1)\n",
            "Requirement already satisfied: fonttools>=4.22.0 in /usr/local/lib/python3.10/dist-packages (from matplotlib<4.0.0,>=3.6.2->moabb) (4.44.3)\n",
            "Requirement already satisfied: kiwisolver>=1.0.1 in /usr/local/lib/python3.10/dist-packages (from matplotlib<4.0.0,>=3.6.2->moabb) (1.4.5)\n",
            "Requirement already satisfied: packaging>=20.0 in /usr/local/lib/python3.10/dist-packages (from matplotlib<4.0.0,>=3.6.2->moabb) (23.2)\n",
            "Requirement already satisfied: pillow>=6.2.0 in /usr/local/lib/python3.10/dist-packages (from matplotlib<4.0.0,>=3.6.2->moabb) (9.4.0)\n",
            "Requirement already satisfied: pyparsing>=2.3.1 in /usr/local/lib/python3.10/dist-packages (from matplotlib<4.0.0,>=3.6.2->moabb) (3.1.1)\n",
            "Requirement already satisfied: python-dateutil>=2.7 in /usr/local/lib/python3.10/dist-packages (from matplotlib<4.0.0,>=3.6.2->moabb) (2.8.2)\n",
            "Requirement already satisfied: psutil in /usr/local/lib/python3.10/dist-packages (from memory-profiler<0.62.0,>=0.61.0->moabb) (5.9.5)\n",
            "Requirement already satisfied: decorator in /usr/local/lib/python3.10/dist-packages (from mne<2.0,>=1.4->moabb) (4.4.2)\n",
            "Requirement already satisfied: jinja2 in /usr/local/lib/python3.10/dist-packages (from mne<2.0,>=1.4->moabb) (3.1.2)\n",
            "Requirement already satisfied: pytz>=2020.1 in /usr/local/lib/python3.10/dist-packages (from pandas<2.0.0,>=1.5.2->moabb) (2023.3.post1)\n",
            "Requirement already satisfied: platformdirs>=2.5.0 in /usr/local/lib/python3.10/dist-packages (from pooch<2.0.0,>=1.6.0->moabb) (4.0.0)\n",
            "Requirement already satisfied: joblib in /usr/local/lib/python3.10/dist-packages (from pyriemann<0.6,>=0.5->moabb) (1.3.2)\n",
            "Requirement already satisfied: iniconfig in /usr/local/lib/python3.10/dist-packages (from pytest<8.0.0,>=7.4.0->moabb) (2.0.0)\n",
            "Requirement already satisfied: pluggy<2.0,>=0.12 in /usr/local/lib/python3.10/dist-packages (from pytest<8.0.0,>=7.4.0->moabb) (1.3.0)\n",
            "Requirement already satisfied: exceptiongroup>=1.0.0rc8 in /usr/local/lib/python3.10/dist-packages (from pytest<8.0.0,>=7.4.0->moabb) (1.1.3)\n",
            "Requirement already satisfied: tomli>=1.0.0 in /usr/local/lib/python3.10/dist-packages (from pytest<8.0.0,>=7.4.0->moabb) (2.0.1)\n",
            "Requirement already satisfied: charset-normalizer<4,>=2 in /usr/local/lib/python3.10/dist-packages (from requests<3.0.0,>=2.28.1->moabb) (3.3.2)\n",
            "Requirement already satisfied: idna<4,>=2.5 in /usr/local/lib/python3.10/dist-packages (from requests<3.0.0,>=2.28.1->moabb) (3.4)\n",
            "Requirement already satisfied: certifi>=2017.4.17 in /usr/local/lib/python3.10/dist-packages (from requests<3.0.0,>=2.28.1->moabb) (2023.7.22)\n",
            "Requirement already satisfied: threadpoolctl>=2.0.0 in /usr/local/lib/python3.10/dist-packages (from scikit-learn<2.0.0,>=1.2.0->moabb) (3.2.0)\n",
            "Requirement already satisfied: six>=1.5 in /usr/local/lib/python3.10/dist-packages (from python-dateutil>=2.7->matplotlib<4.0.0,>=3.6.2->moabb) (1.16.0)\n",
            "Requirement already satisfied: MarkupSafe>=2.0 in /usr/local/lib/python3.10/dist-packages (from jinja2->mne<2.0,>=1.4->moabb) (2.1.3)\n"
          ]
        }
      ],
      "source": [
        "!pip install braindecode==0.7\n",
        "!pip install moabb"
      ]
    },
    {
      "cell_type": "code",
      "source": [
        "!pip install umap-learn\n",
        "import umap"
      ],
      "metadata": {
        "colab": {
          "base_uri": "https://localhost:8080/"
        },
        "id": "4cunUQKU6qt0",
        "outputId": "dc46cb63-c703-494d-b9d6-2e32bfbc9805"
      },
      "execution_count": 41,
      "outputs": [
        {
          "output_type": "stream",
          "name": "stdout",
          "text": [
            "Requirement already satisfied: umap-learn in /usr/local/lib/python3.10/dist-packages (0.5.5)\n",
            "Requirement already satisfied: numpy>=1.17 in /usr/local/lib/python3.10/dist-packages (from umap-learn) (1.23.5)\n",
            "Requirement already satisfied: scipy>=1.3.1 in /usr/local/lib/python3.10/dist-packages (from umap-learn) (1.11.3)\n",
            "Requirement already satisfied: scikit-learn>=0.22 in /usr/local/lib/python3.10/dist-packages (from umap-learn) (1.2.2)\n",
            "Requirement already satisfied: numba>=0.51.2 in /usr/local/lib/python3.10/dist-packages (from umap-learn) (0.58.1)\n",
            "Requirement already satisfied: pynndescent>=0.5 in /usr/local/lib/python3.10/dist-packages (from umap-learn) (0.5.10)\n",
            "Requirement already satisfied: tqdm in /usr/local/lib/python3.10/dist-packages (from umap-learn) (4.66.1)\n",
            "Requirement already satisfied: llvmlite<0.42,>=0.41.0dev0 in /usr/local/lib/python3.10/dist-packages (from numba>=0.51.2->umap-learn) (0.41.1)\n",
            "Requirement already satisfied: joblib>=0.11 in /usr/local/lib/python3.10/dist-packages (from pynndescent>=0.5->umap-learn) (1.3.2)\n",
            "Requirement already satisfied: threadpoolctl>=2.0.0 in /usr/local/lib/python3.10/dist-packages (from scikit-learn>=0.22->umap-learn) (3.2.0)\n"
          ]
        }
      ]
    },
    {
      "cell_type": "code",
      "execution_count": 42,
      "metadata": {
        "id": "h2_9NgpdOPHY"
      },
      "outputs": [],
      "source": [
        "import torch\n",
        "from torchvision import datasets\n",
        "from torchvision import transforms\n",
        "import matplotlib.pyplot as plt\n",
        "\n",
        "from torch import nn\n",
        "from tqdm.auto import tqdm\n",
        "from torchvision import transforms, utils\n",
        "from torchvision.datasets import MNIST\n",
        "from torchvision.utils import make_grid\n",
        "from torch.utils.data import Dataset, DataLoader\n",
        "import torch.nn.functional as F\n",
        "\n",
        "torch.manual_seed(0) # Set for our testing purposes, please do not change!\n",
        "\n",
        "from braindecode.datasets import MOABBDataset\n",
        "from braindecode.preprocessing import (\n",
        "    exponential_moving_standardize, preprocess, Preprocessor)\n",
        "from braindecode.preprocessing import \\\n",
        "    create_windows_from_events, create_fixed_length_windows\n",
        "from sklearn.preprocessing import scale as standard_scale"
      ]
    },
    {
      "cell_type": "code",
      "execution_count": 43,
      "metadata": {
        "id": "2N7BshTkTrdK"
      },
      "outputs": [],
      "source": [
        "#bibliotecas para carregar o dataset e para arquitetura da rede\n",
        "import os\n",
        "import pandas as pd\n",
        "import numpy as np\n",
        "import matplotlib.pyplot as plt\n",
        "import glob\n",
        "\n",
        "from sklearn.model_selection import train_test_split\n",
        "\n",
        "import tensorflow as tf\n",
        "from tensorflow.keras.layers import Input, Conv2D, Conv2DTranspose, BatchNormalization, LeakyReLU, Dense, Lambda, Reshape, Flatten, Reshape\n",
        "from tensorflow.keras.models import Model\n",
        "from tensorflow.keras.losses import mse\n",
        "from tensorflow.keras.optimizers import Adam\n",
        "\n",
        "from tensorflow.keras.callbacks import EarlyStopping\n",
        "\n",
        "from tensorflow.keras import backend as K"
      ]
    },
    {
      "cell_type": "code",
      "source": [
        "#bibliotecas para visualização do espaço latente\n",
        "import numpy as np\n",
        "from sklearn.cluster import KMeans\n",
        "from sklearn.manifold import TSNE\n",
        "import matplotlib.pyplot as plt\n"
      ],
      "metadata": {
        "id": "vu5Yc7k8hEj7"
      },
      "execution_count": 44,
      "outputs": []
    },
    {
      "cell_type": "markdown",
      "metadata": {
        "id": "kux7rdXClzfr"
      },
      "source": [
        "## Reading the data"
      ]
    },
    {
      "cell_type": "code",
      "execution_count": 45,
      "metadata": {
        "id": "aMuPSk7KORh5"
      },
      "outputs": [],
      "source": [
        "def preprocessor(\n",
        "    dataset,\n",
        "    low_cut_hz = 4.,   # low cut frequency for filtering\n",
        "    high_cut_hz = 38., # high cut frequency for filtering\n",
        "    newfreq = 100, # Paramater for resampling\n",
        "    factor = 1e6, # Parameter for scaling\n",
        "    ):\n",
        "\n",
        "    preprocessors = [\n",
        "        Preprocessor('pick_types', eeg=True, meg=False, stim=False),  # Keep EEG sensors\n",
        "#         Preprocessor(lambda data: np.multiply(data, factor)),  # Convert from V to uV\n",
        "        Preprocessor(\"resample\", sfreq=newfreq), # Resampling\n",
        "        Preprocessor('filter', l_freq=low_cut_hz, h_freq=high_cut_hz),  # Bandpass filter\n",
        "        Preprocessor(\"set_eeg_reference\", ref_channels=\"average\", ch_type=\"eeg\"), # Common Average Reference\n",
        "        Preprocessor(standard_scale, channel_wise=True) ## Standard Scale window\n",
        "    ]\n",
        "\n",
        "    # Transform the data\n",
        "    # return preprocess(dataset, preprocessors, n_jobs = -1)\n",
        "    return preprocess(dataset, preprocessors)\n"
      ]
    },
    {
      "cell_type": "code",
      "execution_count": 13,
      "metadata": {
        "id": "tTJ5ZyPDOSay"
      },
      "outputs": [],
      "source": [
        "def get_windows(\n",
        "        dataset,\n",
        "        trial_start_offset_samples=0,\n",
        "        trial_stop_offset_samples=100,\n",
        "        window_size_samples=400,\n",
        "        window_stride_samples=100,\n",
        "        preload=True,\n",
        "        # mapping = {'left_hand': 0, 'right_hand': 1},\n",
        "        picks = ['C3', 'Cz', 'C4']\n",
        "        ):\n",
        "\n",
        "    windows_dataset = create_windows_from_events(\n",
        "        dataset,\n",
        "        trial_start_offset_samples = trial_start_offset_samples,\n",
        "        trial_stop_offset_samples  = trial_stop_offset_samples,\n",
        "        window_size_samples        = window_size_samples,\n",
        "        window_stride_samples      = window_stride_samples,\n",
        "        preload                    = True,\n",
        "        # mapping = {'left_hand': 0, 'right_hand': 1},\n",
        "        #picks                      = picks\n",
        "        )\n",
        "\n",
        "    # preprocess(windows_dataset, [Preprocessor(standard_scale, channel_wise=True)]) ## Standard Scale window\n",
        "\n",
        "    return windows_dataset\n",
        "\n",
        "\n",
        "def get_tensors_from_windows(windows_dataset):\n",
        "    windows_list = []\n",
        "    labels_list = []\n",
        "    n_runs = len(windows_dataset.datasets)\n",
        "    for i in range(n_runs):\n",
        "        windows_list.append(windows_dataset.datasets[i].windows.get_data())\n",
        "        labels_list.append(windows_dataset.datasets[i].y)\n",
        "\n",
        "    stacked_tensor = np.concatenate(windows_list, axis=0)\n",
        "    stacked_labels = np.concatenate(labels_list, axis=0)\n",
        "\n",
        "    del windows_list,labels_list\n",
        "\n",
        "    return stacked_tensor, stacked_labels"
      ]
    },
    {
      "cell_type": "code",
      "execution_count": 14,
      "metadata": {
        "id": "Khk7czwQOUKI"
      },
      "outputs": [],
      "source": [
        "class EEG(Dataset):\n",
        "\n",
        "    def __init__(self, subject_id = 3, dataset_name=\"BNCI2014_001\", transform = None):\n",
        "\n",
        "        self.raw_dataset     = MOABBDataset(dataset_name = dataset_name, subject_ids=subject_id)\n",
        "        self.prepro_dataset  = preprocessor(self.raw_dataset)\n",
        "        self.windows_dataset = get_windows(self.prepro_dataset)\n",
        "        self.data            = get_tensors_from_windows(self.windows_dataset)\n",
        "        self.transform       = transform\n",
        "        self.classes         = self.windows_dataset.datasets[0].windows.event_id\n",
        "\n",
        "    def __len__(self):\n",
        "        return self.data[0].shape[0]\n",
        "\n",
        "\n",
        "    def __getitem__(self,idx):\n",
        "\n",
        "        # sample = {'signal': torch.from_numpy(self.data[0])[idx], 'label': torch.from_numpy(self.data[1])[idx]}\n",
        "\n",
        "        sample = (torch.from_numpy(np.expand_dims(self.data[0], axis = 1))[idx], torch.from_numpy(self.data[1])[idx])\n",
        "\n",
        "        if self.transform:\n",
        "            sample = self.transform(sample)\n",
        "\n",
        "        return sample"
      ]
    },
    {
      "cell_type": "code",
      "execution_count": 15,
      "metadata": {
        "id": "cSlLVHEpOWRa",
        "colab": {
          "base_uri": "https://localhost:8080/"
        },
        "outputId": "ed6b9ce7-d22b-416f-a497-786897c1fb08"
      },
      "outputs": [
        {
          "output_type": "stream",
          "name": "stderr",
          "text": [
            "/usr/local/lib/python3.10/dist-packages/moabb/datasets/download.py:55: RuntimeWarning: Setting non-standard config type: \"MNE_DATASETS_BNCI_PATH\"\n",
            "  set_config(key, get_config(\"MNE_DATA\"))\n",
            "Downloading data from 'http://bnci-horizon-2020.eu/database/data-sets/001-2014/A03T.mat' to file '/root/mne_data/MNE-bnci-data/database/data-sets/001-2014/A03T.mat'.\n"
          ]
        },
        {
          "output_type": "stream",
          "name": "stdout",
          "text": [
            "MNE_DATA is not already configured. It will be set to default location in the home directory - /root/mne_data\n",
            "All datasets will be downloaded to this location, if anything is already downloaded, please move manually to this location\n"
          ]
        },
        {
          "output_type": "stream",
          "name": "stderr",
          "text": [
            "/usr/local/lib/python3.10/dist-packages/urllib3/connectionpool.py:1061: InsecureRequestWarning: Unverified HTTPS request is being made to host 'lampx.tugraz.at'. Adding certificate verification is strongly advised. See: https://urllib3.readthedocs.io/en/1.26.x/advanced-usage.html#ssl-warnings\n",
            "  warnings.warn(\n",
            "100%|█████████████████████████████████████| 44.1M/44.1M [00:00<00:00, 27.2GB/s]\n",
            "SHA256 hash of downloaded file: 7e731ee8b681d5da6ecb11ae1d4e64b1653c7f15aad5d6b7620b25ce53141e80\n",
            "Use this value as the 'known_hash' argument of 'pooch.retrieve' to ensure that the file hasn't changed if it is downloaded again in the future.\n",
            "Downloading data from 'http://bnci-horizon-2020.eu/database/data-sets/001-2014/A03E.mat' to file '/root/mne_data/MNE-bnci-data/database/data-sets/001-2014/A03E.mat'.\n",
            "100%|█████████████████████████████████████| 42.3M/42.3M [00:00<00:00, 15.5GB/s]\n",
            "SHA256 hash of downloaded file: d4229267ec7624fa8bd3af5cbebac17f415f7c722de6cb676748f8cb3b717d97\n",
            "Use this value as the 'known_hash' argument of 'pooch.retrieve' to ensure that the file hasn't changed if it is downloaded again in the future.\n"
          ]
        },
        {
          "output_type": "stream",
          "name": "stdout",
          "text": [
            "NOTE: pick_types() is a legacy function. New code should use inst.pick(...).\n",
            "Filtering raw data in 1 contiguous segment\n",
            "Setting up band-pass filter from 4 - 38 Hz\n",
            "\n",
            "FIR filter parameters\n",
            "---------------------\n",
            "Designing a one-pass, zero-phase, non-causal bandpass filter:\n",
            "- Windowed time-domain design (firwin) method\n",
            "- Hamming window with 0.0194 passband ripple and 53 dB stopband attenuation\n",
            "- Lower passband edge: 4.00\n",
            "- Lower transition bandwidth: 2.00 Hz (-6 dB cutoff frequency: 3.00 Hz)\n",
            "- Upper passband edge: 38.00 Hz\n",
            "- Upper transition bandwidth: 9.50 Hz (-6 dB cutoff frequency: 42.75 Hz)\n",
            "- Filter length: 165 samples (1.650 s)\n",
            "\n",
            "Applying average reference.\n",
            "Applying a custom ('EEG',) reference.\n",
            "NOTE: pick_types() is a legacy function. New code should use inst.pick(...).\n"
          ]
        },
        {
          "output_type": "stream",
          "name": "stderr",
          "text": [
            "[Parallel(n_jobs=1)]: Done  17 tasks      | elapsed:    0.1s\n"
          ]
        },
        {
          "output_type": "stream",
          "name": "stdout",
          "text": [
            "Filtering raw data in 1 contiguous segment\n",
            "Setting up band-pass filter from 4 - 38 Hz\n",
            "\n",
            "FIR filter parameters\n",
            "---------------------\n",
            "Designing a one-pass, zero-phase, non-causal bandpass filter:\n",
            "- Windowed time-domain design (firwin) method\n",
            "- Hamming window with 0.0194 passband ripple and 53 dB stopband attenuation\n",
            "- Lower passband edge: 4.00\n",
            "- Lower transition bandwidth: 2.00 Hz (-6 dB cutoff frequency: 3.00 Hz)\n",
            "- Upper passband edge: 38.00 Hz\n",
            "- Upper transition bandwidth: 9.50 Hz (-6 dB cutoff frequency: 42.75 Hz)\n",
            "- Filter length: 165 samples (1.650 s)\n",
            "\n",
            "Applying average reference.\n",
            "Applying a custom ('EEG',) reference.\n",
            "NOTE: pick_types() is a legacy function. New code should use inst.pick(...).\n"
          ]
        },
        {
          "output_type": "stream",
          "name": "stderr",
          "text": [
            "[Parallel(n_jobs=1)]: Done  17 tasks      | elapsed:    0.1s\n"
          ]
        },
        {
          "output_type": "stream",
          "name": "stdout",
          "text": [
            "Filtering raw data in 1 contiguous segment\n",
            "Setting up band-pass filter from 4 - 38 Hz\n",
            "\n",
            "FIR filter parameters\n",
            "---------------------\n",
            "Designing a one-pass, zero-phase, non-causal bandpass filter:\n",
            "- Windowed time-domain design (firwin) method\n",
            "- Hamming window with 0.0194 passband ripple and 53 dB stopband attenuation\n",
            "- Lower passband edge: 4.00\n",
            "- Lower transition bandwidth: 2.00 Hz (-6 dB cutoff frequency: 3.00 Hz)\n",
            "- Upper passband edge: 38.00 Hz\n",
            "- Upper transition bandwidth: 9.50 Hz (-6 dB cutoff frequency: 42.75 Hz)\n",
            "- Filter length: 165 samples (1.650 s)\n",
            "\n",
            "Applying average reference.\n",
            "Applying a custom ('EEG',) reference.\n",
            "NOTE: pick_types() is a legacy function. New code should use inst.pick(...).\n",
            "Filtering raw data in 1 contiguous segment\n"
          ]
        },
        {
          "output_type": "stream",
          "name": "stderr",
          "text": [
            "[Parallel(n_jobs=1)]: Done  17 tasks      | elapsed:    0.1s\n"
          ]
        },
        {
          "output_type": "stream",
          "name": "stdout",
          "text": [
            "Setting up band-pass filter from 4 - 38 Hz\n",
            "\n",
            "FIR filter parameters\n",
            "---------------------\n",
            "Designing a one-pass, zero-phase, non-causal bandpass filter:\n",
            "- Windowed time-domain design (firwin) method\n",
            "- Hamming window with 0.0194 passband ripple and 53 dB stopband attenuation\n",
            "- Lower passband edge: 4.00\n",
            "- Lower transition bandwidth: 2.00 Hz (-6 dB cutoff frequency: 3.00 Hz)\n",
            "- Upper passband edge: 38.00 Hz\n",
            "- Upper transition bandwidth: 9.50 Hz (-6 dB cutoff frequency: 42.75 Hz)\n",
            "- Filter length: 165 samples (1.650 s)\n",
            "\n",
            "Applying average reference.\n",
            "Applying a custom ('EEG',) reference.\n",
            "NOTE: pick_types() is a legacy function. New code should use inst.pick(...).\n",
            "Filtering raw data in 1 contiguous segment\n",
            "Setting up band-pass filter from 4 - 38 Hz\n",
            "\n",
            "FIR filter parameters\n",
            "---------------------\n",
            "Designing a one-pass, zero-phase, non-causal bandpass filter:\n",
            "- Windowed time-domain design (firwin) method\n",
            "- Hamming window with 0.0194 passband ripple and 53 dB stopband attenuation\n",
            "- Lower passband edge: 4.00\n",
            "- Lower transition bandwidth: 2.00 Hz (-6 dB cutoff frequency: 3.00 Hz)\n",
            "- Upper passband edge: 38.00 Hz\n",
            "- Upper transition bandwidth: 9.50 Hz (-6 dB cutoff frequency: 42.75 Hz)\n",
            "- Filter length: 165 samples (1.650 s)\n",
            "\n"
          ]
        },
        {
          "output_type": "stream",
          "name": "stderr",
          "text": [
            "[Parallel(n_jobs=1)]: Done  17 tasks      | elapsed:    0.1s\n"
          ]
        },
        {
          "output_type": "stream",
          "name": "stdout",
          "text": [
            "Applying average reference.\n",
            "Applying a custom ('EEG',) reference.\n",
            "NOTE: pick_types() is a legacy function. New code should use inst.pick(...).\n",
            "Filtering raw data in 1 contiguous segment\n",
            "Setting up band-pass filter from 4 - 38 Hz\n",
            "\n",
            "FIR filter parameters\n",
            "---------------------\n",
            "Designing a one-pass, zero-phase, non-causal bandpass filter:\n",
            "- Windowed time-domain design (firwin) method\n",
            "- Hamming window with 0.0194 passband ripple and 53 dB stopband attenuation\n",
            "- Lower passband edge: 4.00\n",
            "- Lower transition bandwidth: 2.00 Hz (-6 dB cutoff frequency: 3.00 Hz)\n",
            "- Upper passband edge: 38.00 Hz\n",
            "- Upper transition bandwidth: 9.50 Hz (-6 dB cutoff frequency: 42.75 Hz)\n",
            "- Filter length: 165 samples (1.650 s)\n",
            "\n"
          ]
        },
        {
          "output_type": "stream",
          "name": "stderr",
          "text": [
            "[Parallel(n_jobs=1)]: Done  17 tasks      | elapsed:    0.1s\n"
          ]
        },
        {
          "output_type": "stream",
          "name": "stdout",
          "text": [
            "Applying average reference.\n",
            "Applying a custom ('EEG',) reference.\n",
            "NOTE: pick_types() is a legacy function. New code should use inst.pick(...).\n",
            "Filtering raw data in 1 contiguous segment\n",
            "Setting up band-pass filter from 4 - 38 Hz\n",
            "\n",
            "FIR filter parameters\n",
            "---------------------\n",
            "Designing a one-pass, zero-phase, non-causal bandpass filter:\n",
            "- Windowed time-domain design (firwin) method\n",
            "- Hamming window with 0.0194 passband ripple and 53 dB stopband attenuation\n",
            "- Lower passband edge: 4.00\n",
            "- Lower transition bandwidth: 2.00 Hz (-6 dB cutoff frequency: 3.00 Hz)\n",
            "- Upper passband edge: 38.00 Hz\n",
            "- Upper transition bandwidth: 9.50 Hz (-6 dB cutoff frequency: 42.75 Hz)\n",
            "- Filter length: 165 samples (1.650 s)\n",
            "\n"
          ]
        },
        {
          "output_type": "stream",
          "name": "stderr",
          "text": [
            "[Parallel(n_jobs=1)]: Done  17 tasks      | elapsed:    0.0s\n"
          ]
        },
        {
          "output_type": "stream",
          "name": "stdout",
          "text": [
            "Applying average reference.\n",
            "Applying a custom ('EEG',) reference.\n",
            "NOTE: pick_types() is a legacy function. New code should use inst.pick(...).\n",
            "Filtering raw data in 1 contiguous segment\n",
            "Setting up band-pass filter from 4 - 38 Hz\n",
            "\n",
            "FIR filter parameters\n",
            "---------------------\n",
            "Designing a one-pass, zero-phase, non-causal bandpass filter:\n",
            "- Windowed time-domain design (firwin) method\n",
            "- Hamming window with 0.0194 passband ripple and 53 dB stopband attenuation\n",
            "- Lower passband edge: 4.00\n",
            "- Lower transition bandwidth: 2.00 Hz (-6 dB cutoff frequency: 3.00 Hz)\n",
            "- Upper passband edge: 38.00 Hz\n",
            "- Upper transition bandwidth: 9.50 Hz (-6 dB cutoff frequency: 42.75 Hz)\n"
          ]
        },
        {
          "output_type": "stream",
          "name": "stderr",
          "text": [
            "[Parallel(n_jobs=1)]: Done  17 tasks      | elapsed:    0.1s\n"
          ]
        },
        {
          "output_type": "stream",
          "name": "stdout",
          "text": [
            "- Filter length: 165 samples (1.650 s)\n",
            "\n",
            "Applying average reference.\n",
            "Applying a custom ('EEG',) reference.\n",
            "NOTE: pick_types() is a legacy function. New code should use inst.pick(...).\n",
            "Filtering raw data in 1 contiguous segment\n",
            "Setting up band-pass filter from 4 - 38 Hz\n",
            "\n",
            "FIR filter parameters\n",
            "---------------------\n",
            "Designing a one-pass, zero-phase, non-causal bandpass filter:\n",
            "- Windowed time-domain design (firwin) method\n",
            "- Hamming window with 0.0194 passband ripple and 53 dB stopband attenuation\n",
            "- Lower passband edge: 4.00\n",
            "- Lower transition bandwidth: 2.00 Hz (-6 dB cutoff frequency: 3.00 Hz)\n",
            "- Upper passband edge: 38.00 Hz\n",
            "- Upper transition bandwidth: 9.50 Hz (-6 dB cutoff frequency: 42.75 Hz)\n",
            "- Filter length: 165 samples (1.650 s)\n",
            "\n"
          ]
        },
        {
          "output_type": "stream",
          "name": "stderr",
          "text": [
            "[Parallel(n_jobs=1)]: Done  17 tasks      | elapsed:    0.1s\n"
          ]
        },
        {
          "output_type": "stream",
          "name": "stdout",
          "text": [
            "Applying average reference.\n",
            "Applying a custom ('EEG',) reference.\n",
            "NOTE: pick_types() is a legacy function. New code should use inst.pick(...).\n",
            "Filtering raw data in 1 contiguous segment\n",
            "Setting up band-pass filter from 4 - 38 Hz\n",
            "\n",
            "FIR filter parameters\n",
            "---------------------\n",
            "Designing a one-pass, zero-phase, non-causal bandpass filter:\n",
            "- Windowed time-domain design (firwin) method\n",
            "- Hamming window with 0.0194 passband ripple and 53 dB stopband attenuation\n",
            "- Lower passband edge: 4.00\n",
            "- Lower transition bandwidth: 2.00 Hz (-6 dB cutoff frequency: 3.00 Hz)\n",
            "- Upper passband edge: 38.00 Hz\n",
            "- Upper transition bandwidth: 9.50 Hz (-6 dB cutoff frequency: 42.75 Hz)\n",
            "- Filter length: 165 samples (1.650 s)\n",
            "\n"
          ]
        },
        {
          "output_type": "stream",
          "name": "stderr",
          "text": [
            "[Parallel(n_jobs=1)]: Done  17 tasks      | elapsed:    0.1s\n"
          ]
        },
        {
          "output_type": "stream",
          "name": "stdout",
          "text": [
            "Applying average reference.\n",
            "Applying a custom ('EEG',) reference.\n",
            "NOTE: pick_types() is a legacy function. New code should use inst.pick(...).\n",
            "Filtering raw data in 1 contiguous segment\n",
            "Setting up band-pass filter from 4 - 38 Hz\n",
            "\n",
            "FIR filter parameters\n",
            "---------------------\n",
            "Designing a one-pass, zero-phase, non-causal bandpass filter:\n",
            "- Windowed time-domain design (firwin) method\n",
            "- Hamming window with 0.0194 passband ripple and 53 dB stopband attenuation\n",
            "- Lower passband edge: 4.00\n",
            "- Lower transition bandwidth: 2.00 Hz (-6 dB cutoff frequency: 3.00 Hz)\n",
            "- Upper passband edge: 38.00 Hz\n",
            "- Upper transition bandwidth: 9.50 Hz (-6 dB cutoff frequency: 42.75 Hz)\n",
            "- Filter length: 165 samples (1.650 s)\n",
            "\n"
          ]
        },
        {
          "output_type": "stream",
          "name": "stderr",
          "text": [
            "[Parallel(n_jobs=1)]: Done  17 tasks      | elapsed:    0.1s\n"
          ]
        },
        {
          "output_type": "stream",
          "name": "stdout",
          "text": [
            "Applying average reference.\n",
            "Applying a custom ('EEG',) reference.\n",
            "NOTE: pick_types() is a legacy function. New code should use inst.pick(...).\n",
            "Filtering raw data in 1 contiguous segment\n",
            "Setting up band-pass filter from 4 - 38 Hz\n",
            "\n",
            "FIR filter parameters\n",
            "---------------------\n",
            "Designing a one-pass, zero-phase, non-causal bandpass filter:\n",
            "- Windowed time-domain design (firwin) method\n"
          ]
        },
        {
          "output_type": "stream",
          "name": "stderr",
          "text": [
            "[Parallel(n_jobs=1)]: Done  17 tasks      | elapsed:    0.1s\n"
          ]
        },
        {
          "output_type": "stream",
          "name": "stdout",
          "text": [
            "- Hamming window with 0.0194 passband ripple and 53 dB stopband attenuation\n",
            "- Lower passband edge: 4.00\n",
            "- Lower transition bandwidth: 2.00 Hz (-6 dB cutoff frequency: 3.00 Hz)\n",
            "- Upper passband edge: 38.00 Hz\n",
            "- Upper transition bandwidth: 9.50 Hz (-6 dB cutoff frequency: 42.75 Hz)\n",
            "- Filter length: 165 samples (1.650 s)\n",
            "\n",
            "Applying average reference.\n",
            "Applying a custom ('EEG',) reference.\n",
            "Used Annotations descriptions: ['feet', 'left_hand', 'right_hand', 'tongue']\n",
            "Used Annotations descriptions: ['feet', 'left_hand', 'right_hand', 'tongue']\n",
            "Used Annotations descriptions: ['feet', 'left_hand', 'right_hand', 'tongue']\n",
            "Used Annotations descriptions: ['feet', 'left_hand', 'right_hand', 'tongue']\n"
          ]
        },
        {
          "output_type": "stream",
          "name": "stderr",
          "text": [
            "[Parallel(n_jobs=1)]: Done  17 tasks      | elapsed:    0.1s\n"
          ]
        },
        {
          "output_type": "stream",
          "name": "stdout",
          "text": [
            "Used Annotations descriptions: ['feet', 'left_hand', 'right_hand', 'tongue']\n",
            "Used Annotations descriptions: ['feet', 'left_hand', 'right_hand', 'tongue']\n",
            "Used Annotations descriptions: ['feet', 'left_hand', 'right_hand', 'tongue']\n",
            "Used Annotations descriptions: ['feet', 'left_hand', 'right_hand', 'tongue']\n",
            "Used Annotations descriptions: ['feet', 'left_hand', 'right_hand', 'tongue']\n",
            "Used Annotations descriptions: ['feet', 'left_hand', 'right_hand', 'tongue']\n",
            "Used Annotations descriptions: ['feet', 'left_hand', 'right_hand', 'tongue']\n",
            "Used Annotations descriptions: ['feet', 'left_hand', 'right_hand', 'tongue']\n"
          ]
        }
      ],
      "source": [
        "my_eeg_data = EEG(subject_id=3)"
      ]
    },
    {
      "cell_type": "code",
      "execution_count": 16,
      "metadata": {
        "id": "LqFlNRrgOZgZ"
      },
      "outputs": [],
      "source": [
        "x = my_eeg_data[:][0].detach().numpy()\n",
        "eletrodos = x.shape[2]\n",
        "amostras  = x.shape[3]\n",
        "y = my_eeg_data[:][1].detach().numpy()"
      ]
    },
    {
      "cell_type": "code",
      "source": [
        "# Carregar os dados do arquivo\n",
        "x_gen = torch.load('/content/drive/MyDrive/Unicamp/23.2/DL para sintese de sinais/Projetos computacionais/A1 - Projeto Final/Códigos/dados_gerados_todas_labels.pt')\n",
        "x_gen = x_gen.detach().numpy()\n",
        "\n",
        "# Criar os rótulos\n",
        "y_gen = np.concatenate((np.zeros((288,1)),np.ones((288,1)),2*np.ones((288,1)),3*np.ones((288,1))))"
      ],
      "metadata": {
        "id": "Ist9VsoL1Nt4"
      },
      "execution_count": 50,
      "outputs": []
    },
    {
      "cell_type": "code",
      "execution_count": 51,
      "metadata": {
        "id": "LvMYCDnWlzfr"
      },
      "outputs": [],
      "source": [
        "from sklearn.model_selection import train_test_split\n",
        "#X_train, X_test, y_train, y_test = train_test_split(x,y,test_size=0.2)\n",
        "X_train, X_test, y_train, y_test  = train_test_split(x_gen,y_gen,test_size=0.2)"
      ]
    },
    {
      "cell_type": "code",
      "source": [
        "min_val = tf.reduce_min(X_train)\n",
        "max_val = tf.reduce_max(X_train)\n",
        "\n",
        "X_train = (X_train - min_val) / (max_val - min_val) #Normalizando os dados\n",
        "X_test = (X_test - min_val) / (max_val - min_val)\n",
        "\n",
        "X_train = tf.cast(X_train, tf.float32) #Lança um tensor para um novo tipo.\n",
        "X_test = tf.cast(X_test, tf.float32)"
      ],
      "metadata": {
        "id": "2yg0X8gA2OS4"
      },
      "execution_count": 52,
      "outputs": []
    },
    {
      "cell_type": "markdown",
      "source": [
        "##VAE"
      ],
      "metadata": {
        "id": "DyvPTrY5ZHSD"
      }
    },
    {
      "cell_type": "code",
      "source": [
        "# VAE model\n",
        "input_shape=(X_train.shape[1:])\n",
        "batch_size = 32\n",
        "kernel_size = 5\n",
        "filters = 16\n",
        "latent_dim = 2\n",
        "epochs = 200\n",
        "\n",
        "# reparameterization\n",
        "def sampling(args):\n",
        "    z_mean, z_log_var = args\n",
        "    batch = K.shape(z_mean)[0]\n",
        "    dim = K.int_shape(z_mean)[1]\n",
        "    epsilon = K.random_normal(shape=(batch, dim))\n",
        "    return z_mean + K.exp(0.5 * z_log_var) * epsilon\n",
        "\n",
        "\n",
        "\n",
        "\n",
        "# encoder\n",
        "inputs = Input(shape=input_shape, name='encoder_input')\n",
        "x = inputs\n",
        "\n",
        "filters = filters* 2\n",
        "x = Conv2D(filters=filters,kernel_size=(1, 50),strides=(1,25),padding='same')(x)\n",
        "x = BatchNormalization()(x)\n",
        "x = LeakyReLU(alpha=0.2)(x)\n",
        "\n",
        "\n",
        "filters = filters* 2\n",
        "x = Conv2D(filters=filters,kernel_size=(eletrodos, 1),padding='same')(x)\n",
        "x = BatchNormalization()(x)\n",
        "x = LeakyReLU(alpha=0.2)(x)\n",
        "\n",
        "shape = K.int_shape(x)\n",
        "\n",
        "x = Flatten()(x)\n",
        "x = Dense(16, activation='relu')(x)\n",
        "z_mean = Dense(latent_dim, name='z_mean')(x)\n",
        "z_log_var = Dense(latent_dim, name='z_log_var')(x)\n",
        "z_log_var = z_log_var + 1e-8\n",
        "\n",
        "# reparameterization\n",
        "z = Lambda(sampling, output_shape=(latent_dim,), name='z')([z_mean, z_log_var])\n",
        "\n",
        "encoder = Model(inputs, [z_mean, z_log_var, z], name='encoder')\n",
        "encoder.summary()"
      ],
      "metadata": {
        "colab": {
          "base_uri": "https://localhost:8080/"
        },
        "id": "XfyuCzumYZSy",
        "outputId": "2d2a0c3c-659f-4c9c-c7ab-112dcda24ae8"
      },
      "execution_count": 58,
      "outputs": [
        {
          "output_type": "stream",
          "name": "stdout",
          "text": [
            "Model: \"encoder\"\n",
            "__________________________________________________________________________________________________\n",
            " Layer (type)                Output Shape                 Param #   Connected to                  \n",
            "==================================================================================================\n",
            " encoder_input (InputLayer)  [(None, 1, 22, 400)]         0         []                            \n",
            "                                                                                                  \n",
            " conv2d_4 (Conv2D)           (None, 1, 1, 32)             640032    ['encoder_input[0][0]']       \n",
            "                                                                                                  \n",
            " batch_normalization_8 (Bat  (None, 1, 1, 32)             128       ['conv2d_4[0][0]']            \n",
            " chNormalization)                                                                                 \n",
            "                                                                                                  \n",
            " leaky_re_lu_4 (LeakyReLU)   (None, 1, 1, 32)             0         ['batch_normalization_8[0][0]'\n",
            "                                                                    ]                             \n",
            "                                                                                                  \n",
            " conv2d_5 (Conv2D)           (None, 1, 1, 64)             45120     ['leaky_re_lu_4[0][0]']       \n",
            "                                                                                                  \n",
            " batch_normalization_9 (Bat  (None, 1, 1, 64)             256       ['conv2d_5[0][0]']            \n",
            " chNormalization)                                                                                 \n",
            "                                                                                                  \n",
            " leaky_re_lu_5 (LeakyReLU)   (None, 1, 1, 64)             0         ['batch_normalization_9[0][0]'\n",
            "                                                                    ]                             \n",
            "                                                                                                  \n",
            " flatten_2 (Flatten)         (None, 64)                   0         ['leaky_re_lu_5[0][0]']       \n",
            "                                                                                                  \n",
            " dense_4 (Dense)             (None, 16)                   1040      ['flatten_2[0][0]']           \n",
            "                                                                                                  \n",
            " z_log_var (Dense)           (None, 2)                    34        ['dense_4[0][0]']             \n",
            "                                                                                                  \n",
            " z_mean (Dense)              (None, 2)                    34        ['dense_4[0][0]']             \n",
            "                                                                                                  \n",
            " tf.math.add_3 (TFOpLambda)  (None, 2)                    0         ['z_log_var[0][0]']           \n",
            "                                                                                                  \n",
            " z (Lambda)                  (None, 2)                    0         ['z_mean[0][0]',              \n",
            "                                                                     'tf.math.add_3[0][0]']       \n",
            "                                                                                                  \n",
            "==================================================================================================\n",
            "Total params: 686644 (2.62 MB)\n",
            "Trainable params: 686452 (2.62 MB)\n",
            "Non-trainable params: 192 (768.00 Byte)\n",
            "__________________________________________________________________________________________________\n"
          ]
        }
      ]
    },
    {
      "cell_type": "code",
      "source": [
        "# decoder\n",
        "latent_inputs = Input(shape=(latent_dim,), name='z_sampling')\n",
        "x = Dense(shape[1] * shape[2] * shape[3], activation='relu')(latent_inputs)\n",
        "x = Reshape((shape[1], shape[2], shape[3]))(x)\n",
        "\n",
        "x = Conv2DTranspose(filters=filters,kernel_size=(eletrodos, 1),activation='relu',)(x)\n",
        "x = BatchNormalization()(x)\n",
        "\n",
        "filters = filters// 2\n",
        "x = Conv2DTranspose(filters=filters,kernel_size=(1, 400),activation='relu',strides=(1,25))(x)\n",
        "x = BatchNormalization()(x)\n",
        "\n",
        "filters = filters// 2\n",
        "outputs = Conv2DTranspose(filters=1,kernel_size=kernel_size,padding='same',name='decoder_output')(x)\n",
        "outputs = Reshape((1,eletrodos,400))(outputs)\n",
        "\n",
        "decoder = Model(latent_inputs, outputs, name='decoder')\n",
        "decoder.summary()"
      ],
      "metadata": {
        "colab": {
          "base_uri": "https://localhost:8080/"
        },
        "id": "ZIxwpjEuYakR",
        "outputId": "a2b1b967-c9ea-41cb-8f11-bea955d1a0ee"
      },
      "execution_count": 59,
      "outputs": [
        {
          "output_type": "stream",
          "name": "stdout",
          "text": [
            "Model: \"decoder\"\n",
            "_________________________________________________________________\n",
            " Layer (type)                Output Shape              Param #   \n",
            "=================================================================\n",
            " z_sampling (InputLayer)     [(None, 2)]               0         \n",
            "                                                                 \n",
            " dense_5 (Dense)             (None, 64)                192       \n",
            "                                                                 \n",
            " reshape_4 (Reshape)         (None, 1, 1, 64)          0         \n",
            "                                                                 \n",
            " conv2d_transpose_4 (Conv2D  (None, 22, 1, 64)         90176     \n",
            " Transpose)                                                      \n",
            "                                                                 \n",
            " batch_normalization_10 (Ba  (None, 22, 1, 64)         256       \n",
            " tchNormalization)                                               \n",
            "                                                                 \n",
            " conv2d_transpose_5 (Conv2D  (None, 22, 400, 32)       819232    \n",
            " Transpose)                                                      \n",
            "                                                                 \n",
            " batch_normalization_11 (Ba  (None, 22, 400, 32)       128       \n",
            " tchNormalization)                                               \n",
            "                                                                 \n",
            " decoder_output (Conv2DTran  (None, 22, 400, 1)        801       \n",
            " spose)                                                          \n",
            "                                                                 \n",
            " reshape_5 (Reshape)         (None, 1, 22, 400)        0         \n",
            "                                                                 \n",
            "=================================================================\n",
            "Total params: 910785 (3.47 MB)\n",
            "Trainable params: 910593 (3.47 MB)\n",
            "Non-trainable params: 192 (768.00 Byte)\n",
            "_________________________________________________________________\n"
          ]
        }
      ]
    },
    {
      "cell_type": "code",
      "source": [
        "# VAE model (merging encoder and decoder)\n",
        "outputs = decoder(encoder(inputs)[2])\n",
        "vae = Model(inputs, outputs, name='vae')\n",
        "vae.summary()"
      ],
      "metadata": {
        "colab": {
          "base_uri": "https://localhost:8080/"
        },
        "id": "eWQ90acMYeWI",
        "outputId": "b49f1828-0b2a-45ed-fdbb-5f0f8c3edb84"
      },
      "execution_count": 60,
      "outputs": [
        {
          "output_type": "stream",
          "name": "stdout",
          "text": [
            "Model: \"vae\"\n",
            "_________________________________________________________________\n",
            " Layer (type)                Output Shape              Param #   \n",
            "=================================================================\n",
            " encoder_input (InputLayer)  [(None, 1, 22, 400)]      0         \n",
            "                                                                 \n",
            " encoder (Functional)        [(None, 2),               686644    \n",
            "                              (None, 2),                         \n",
            "                              (None, 2)]                         \n",
            "                                                                 \n",
            " decoder (Functional)        (None, 1, 22, 400)        910785    \n",
            "                                                                 \n",
            "=================================================================\n",
            "Total params: 1597429 (6.09 MB)\n",
            "Trainable params: 1597045 (6.09 MB)\n",
            "Non-trainable params: 384 (1.50 KB)\n",
            "_________________________________________________________________\n"
          ]
        }
      ]
    },
    {
      "cell_type": "code",
      "source": [
        "#optimizer\n",
        "optimizer = Adam(learning_rate=0.001, beta_1=0.5, beta_2=0.999)\n",
        "\n",
        "# compiling vae\n",
        "vae.compile(optimizer=optimizer, loss= 'mse', metrics = 'accuracy')\n",
        "vae.summary()"
      ],
      "metadata": {
        "colab": {
          "base_uri": "https://localhost:8080/"
        },
        "id": "1LkcEw7IYg1Q",
        "outputId": "55436988-d627-4bf1-ff34-173d424344c9"
      },
      "execution_count": 61,
      "outputs": [
        {
          "output_type": "stream",
          "name": "stdout",
          "text": [
            "Model: \"vae\"\n",
            "_________________________________________________________________\n",
            " Layer (type)                Output Shape              Param #   \n",
            "=================================================================\n",
            " encoder_input (InputLayer)  [(None, 1, 22, 400)]      0         \n",
            "                                                                 \n",
            " encoder (Functional)        [(None, 2),               686644    \n",
            "                              (None, 2),                         \n",
            "                              (None, 2)]                         \n",
            "                                                                 \n",
            " decoder (Functional)        (None, 1, 22, 400)        910785    \n",
            "                                                                 \n",
            "=================================================================\n",
            "Total params: 1597429 (6.09 MB)\n",
            "Trainable params: 1597045 (6.09 MB)\n",
            "Non-trainable params: 384 (1.50 KB)\n",
            "_________________________________________________________________\n"
          ]
        }
      ]
    },
    {
      "cell_type": "code",
      "source": [
        "# fit vae model\n",
        "history = vae.fit(X_train,X_train,\n",
        "            epochs=epochs,\n",
        "            batch_size=batch_size,\n",
        "            validation_data=(X_test, X_test))"
      ],
      "metadata": {
        "colab": {
          "base_uri": "https://localhost:8080/"
        },
        "id": "skf1GHMwYkwj",
        "outputId": "aee7b546-1b34-4457-af01-4b378ee94d2c"
      },
      "execution_count": 62,
      "outputs": [
        {
          "output_type": "stream",
          "name": "stdout",
          "text": [
            "Epoch 1/200\n",
            "29/29 [==============================] - 20s 573ms/step - loss: 0.1038 - accuracy: 0.0428 - val_loss: 0.2863 - val_accuracy: 0.0063\n",
            "Epoch 2/200\n",
            "29/29 [==============================] - 17s 597ms/step - loss: 0.0101 - accuracy: 0.0539 - val_loss: 0.2830 - val_accuracy: 0.0100\n",
            "Epoch 3/200\n",
            "29/29 [==============================] - 18s 633ms/step - loss: 0.0067 - accuracy: 0.0630 - val_loss: 0.2786 - val_accuracy: 0.0153\n",
            "Epoch 4/200\n",
            "29/29 [==============================] - 18s 615ms/step - loss: 0.0046 - accuracy: 0.0706 - val_loss: 0.2741 - val_accuracy: 0.0106\n",
            "Epoch 5/200\n",
            "29/29 [==============================] - 18s 625ms/step - loss: 0.0036 - accuracy: 0.0712 - val_loss: 0.2686 - val_accuracy: 0.0142\n",
            "Epoch 6/200\n",
            "29/29 [==============================] - 17s 606ms/step - loss: 0.0038 - accuracy: 0.0731 - val_loss: 0.2638 - val_accuracy: 0.0179\n",
            "Epoch 7/200\n",
            "29/29 [==============================] - 17s 599ms/step - loss: 0.0033 - accuracy: 0.0783 - val_loss: 0.2607 - val_accuracy: 0.0181\n",
            "Epoch 8/200\n",
            "29/29 [==============================] - 17s 579ms/step - loss: 0.0029 - accuracy: 0.0774 - val_loss: 0.2528 - val_accuracy: 0.0218\n",
            "Epoch 9/200\n",
            "29/29 [==============================] - 18s 618ms/step - loss: 0.0035 - accuracy: 0.0754 - val_loss: 0.2467 - val_accuracy: 0.0191\n",
            "Epoch 10/200\n",
            "29/29 [==============================] - 16s 560ms/step - loss: 0.0041 - accuracy: 0.0778 - val_loss: 0.2372 - val_accuracy: 0.0279\n",
            "Epoch 11/200\n",
            "29/29 [==============================] - 18s 603ms/step - loss: 0.0016 - accuracy: 0.0821 - val_loss: 0.2326 - val_accuracy: 0.0252\n",
            "Epoch 12/200\n",
            "29/29 [==============================] - 16s 558ms/step - loss: 0.0025 - accuracy: 0.0787 - val_loss: 0.2172 - val_accuracy: 0.0411\n",
            "Epoch 13/200\n",
            "29/29 [==============================] - 18s 621ms/step - loss: 0.0017 - accuracy: 0.0804 - val_loss: 0.2109 - val_accuracy: 0.0335\n",
            "Epoch 14/200\n",
            "29/29 [==============================] - 18s 623ms/step - loss: 0.0021 - accuracy: 0.0795 - val_loss: 0.2039 - val_accuracy: 0.0167\n",
            "Epoch 15/200\n",
            "29/29 [==============================] - 18s 611ms/step - loss: 0.0021 - accuracy: 0.0840 - val_loss: 0.1813 - val_accuracy: 0.0368\n",
            "Epoch 16/200\n",
            "29/29 [==============================] - 18s 624ms/step - loss: 0.0017 - accuracy: 0.0833 - val_loss: 0.1656 - val_accuracy: 0.0590\n",
            "Epoch 17/200\n",
            "29/29 [==============================] - 17s 607ms/step - loss: 0.0019 - accuracy: 0.0836 - val_loss: 0.1472 - val_accuracy: 0.0657\n",
            "Epoch 18/200\n",
            "29/29 [==============================] - 17s 586ms/step - loss: 0.0019 - accuracy: 0.0809 - val_loss: 0.1283 - val_accuracy: 0.0667\n",
            "Epoch 19/200\n",
            "29/29 [==============================] - 16s 549ms/step - loss: 0.0015 - accuracy: 0.0844 - val_loss: 0.1123 - val_accuracy: 0.0714\n",
            "Epoch 20/200\n",
            "29/29 [==============================] - 16s 535ms/step - loss: 0.0017 - accuracy: 0.0831 - val_loss: 0.0936 - val_accuracy: 0.0657\n",
            "Epoch 21/200\n",
            "29/29 [==============================] - 17s 587ms/step - loss: 0.0015 - accuracy: 0.0827 - val_loss: 0.0724 - val_accuracy: 0.0643\n",
            "Epoch 22/200\n",
            "29/29 [==============================] - 17s 607ms/step - loss: 0.0013 - accuracy: 0.0841 - val_loss: 0.0548 - val_accuracy: 0.0740\n",
            "Epoch 23/200\n",
            "29/29 [==============================] - 17s 604ms/step - loss: 0.0015 - accuracy: 0.0851 - val_loss: 0.0445 - val_accuracy: 0.0712\n",
            "Epoch 24/200\n",
            "29/29 [==============================] - 18s 615ms/step - loss: 0.0013 - accuracy: 0.0864 - val_loss: 0.0345 - val_accuracy: 0.0590\n",
            "Epoch 25/200\n",
            "29/29 [==============================] - 18s 620ms/step - loss: 0.0013 - accuracy: 0.0860 - val_loss: 0.0206 - val_accuracy: 0.0677\n",
            "Epoch 26/200\n",
            "29/29 [==============================] - 18s 620ms/step - loss: 0.0012 - accuracy: 0.0886 - val_loss: 0.0146 - val_accuracy: 0.0714\n",
            "Epoch 27/200\n",
            "29/29 [==============================] - 17s 587ms/step - loss: 0.0014 - accuracy: 0.0836 - val_loss: 0.0081 - val_accuracy: 0.0730\n",
            "Epoch 28/200\n",
            "29/29 [==============================] - 16s 563ms/step - loss: 0.0013 - accuracy: 0.0876 - val_loss: 0.0087 - val_accuracy: 0.0710\n",
            "Epoch 29/200\n",
            "29/29 [==============================] - 16s 551ms/step - loss: 0.0013 - accuracy: 0.0886 - val_loss: 0.0037 - val_accuracy: 0.0866\n",
            "Epoch 30/200\n",
            "29/29 [==============================] - 17s 582ms/step - loss: 0.0014 - accuracy: 0.0853 - val_loss: 0.0053 - val_accuracy: 0.0846\n",
            "Epoch 31/200\n",
            "29/29 [==============================] - 18s 612ms/step - loss: 0.0011 - accuracy: 0.0866 - val_loss: 0.0049 - val_accuracy: 0.0878\n",
            "Epoch 32/200\n",
            "29/29 [==============================] - 18s 610ms/step - loss: 0.0011 - accuracy: 0.0903 - val_loss: 0.0057 - val_accuracy: 0.0681\n",
            "Epoch 33/200\n",
            "29/29 [==============================] - 18s 615ms/step - loss: 0.0013 - accuracy: 0.0865 - val_loss: 0.0018 - val_accuracy: 0.0789\n",
            "Epoch 34/200\n",
            "29/29 [==============================] - 18s 620ms/step - loss: 0.0012 - accuracy: 0.0860 - val_loss: 0.0010 - val_accuracy: 0.0943\n",
            "Epoch 35/200\n",
            "29/29 [==============================] - 18s 621ms/step - loss: 0.0011 - accuracy: 0.0886 - val_loss: 0.0026 - val_accuracy: 0.0702\n",
            "Epoch 36/200\n",
            "29/29 [==============================] - 18s 630ms/step - loss: 9.7877e-04 - accuracy: 0.0932 - val_loss: 0.0023 - val_accuracy: 0.0931\n",
            "Epoch 37/200\n",
            "29/29 [==============================] - 17s 576ms/step - loss: 0.0011 - accuracy: 0.0895 - val_loss: 0.0046 - val_accuracy: 0.0775\n",
            "Epoch 38/200\n",
            "29/29 [==============================] - 17s 589ms/step - loss: 0.0010 - accuracy: 0.0933 - val_loss: 0.0023 - val_accuracy: 0.0785\n",
            "Epoch 39/200\n",
            "29/29 [==============================] - 17s 568ms/step - loss: 8.7522e-04 - accuracy: 0.0924 - val_loss: 0.0017 - val_accuracy: 0.0701\n",
            "Epoch 40/200\n",
            "29/29 [==============================] - 16s 548ms/step - loss: 0.0012 - accuracy: 0.0894 - val_loss: 0.0016 - val_accuracy: 0.0978\n",
            "Epoch 41/200\n",
            "29/29 [==============================] - 17s 598ms/step - loss: 0.0011 - accuracy: 0.0928 - val_loss: 0.0012 - val_accuracy: 0.0911\n",
            "Epoch 42/200\n",
            "29/29 [==============================] - 18s 608ms/step - loss: 0.0011 - accuracy: 0.0905 - val_loss: 0.0017 - val_accuracy: 0.0777\n",
            "Epoch 43/200\n",
            "29/29 [==============================] - 17s 609ms/step - loss: 0.0012 - accuracy: 0.0919 - val_loss: 0.0023 - val_accuracy: 0.0919\n",
            "Epoch 44/200\n",
            "29/29 [==============================] - 18s 619ms/step - loss: 0.0010 - accuracy: 0.0895 - val_loss: 8.5800e-04 - val_accuracy: 0.0817\n",
            "Epoch 45/200\n",
            "29/29 [==============================] - 17s 606ms/step - loss: 9.2321e-04 - accuracy: 0.0929 - val_loss: 0.0011 - val_accuracy: 0.0823\n",
            "Epoch 46/200\n",
            "29/29 [==============================] - 16s 558ms/step - loss: 9.8356e-04 - accuracy: 0.0929 - val_loss: 9.8539e-04 - val_accuracy: 0.0760\n",
            "Epoch 47/200\n",
            "29/29 [==============================] - 17s 566ms/step - loss: 0.0011 - accuracy: 0.0905 - val_loss: 9.5073e-04 - val_accuracy: 0.0746\n",
            "Epoch 48/200\n",
            "29/29 [==============================] - 17s 587ms/step - loss: 9.6312e-04 - accuracy: 0.0918 - val_loss: 9.7702e-04 - val_accuracy: 0.0771\n",
            "Epoch 49/200\n",
            "29/29 [==============================] - 16s 551ms/step - loss: 8.8293e-04 - accuracy: 0.0939 - val_loss: 0.0013 - val_accuracy: 0.0848\n",
            "Epoch 50/200\n",
            "29/29 [==============================] - 18s 624ms/step - loss: 8.3951e-04 - accuracy: 0.0919 - val_loss: 0.0011 - val_accuracy: 0.0830\n",
            "Epoch 51/200\n",
            "29/29 [==============================] - 17s 609ms/step - loss: 0.0010 - accuracy: 0.0941 - val_loss: 0.0017 - val_accuracy: 0.0994\n",
            "Epoch 52/200\n",
            "29/29 [==============================] - 18s 623ms/step - loss: 9.9072e-04 - accuracy: 0.0936 - val_loss: 8.4810e-04 - val_accuracy: 0.0880\n",
            "Epoch 53/200\n",
            "29/29 [==============================] - 18s 624ms/step - loss: 8.6650e-04 - accuracy: 0.0931 - val_loss: 0.0014 - val_accuracy: 0.0781\n",
            "Epoch 54/200\n",
            "29/29 [==============================] - 17s 604ms/step - loss: 7.8958e-04 - accuracy: 0.0933 - val_loss: 8.3302e-04 - val_accuracy: 0.0919\n",
            "Epoch 55/200\n",
            "29/29 [==============================] - 18s 617ms/step - loss: 9.1431e-04 - accuracy: 0.0910 - val_loss: 9.9559e-04 - val_accuracy: 0.0923\n",
            "Epoch 56/200\n",
            "29/29 [==============================] - 17s 605ms/step - loss: 9.9011e-04 - accuracy: 0.0956 - val_loss: 9.8905e-04 - val_accuracy: 0.1068\n",
            "Epoch 57/200\n",
            "29/29 [==============================] - 17s 567ms/step - loss: 9.8917e-04 - accuracy: 0.0961 - val_loss: 0.0015 - val_accuracy: 0.0939\n",
            "Epoch 58/200\n",
            "29/29 [==============================] - 17s 584ms/step - loss: 9.2707e-04 - accuracy: 0.0926 - val_loss: 9.0928e-04 - val_accuracy: 0.0832\n",
            "Epoch 59/200\n",
            "29/29 [==============================] - 17s 584ms/step - loss: 8.6630e-04 - accuracy: 0.0970 - val_loss: 0.0014 - val_accuracy: 0.0758\n",
            "Epoch 60/200\n",
            "29/29 [==============================] - 16s 560ms/step - loss: 9.6152e-04 - accuracy: 0.0955 - val_loss: 0.0010 - val_accuracy: 0.0909\n",
            "Epoch 61/200\n",
            "29/29 [==============================] - 18s 623ms/step - loss: 8.1963e-04 - accuracy: 0.0965 - val_loss: 0.0011 - val_accuracy: 0.0862\n",
            "Epoch 62/200\n",
            "29/29 [==============================] - 17s 610ms/step - loss: 7.8608e-04 - accuracy: 0.0963 - val_loss: 8.7588e-04 - val_accuracy: 0.0952\n",
            "Epoch 63/200\n",
            "29/29 [==============================] - 18s 625ms/step - loss: 9.8259e-04 - accuracy: 0.0925 - val_loss: 8.6888e-04 - val_accuracy: 0.0954\n",
            "Epoch 64/200\n",
            "29/29 [==============================] - 17s 609ms/step - loss: 9.7691e-04 - accuracy: 0.0931 - val_loss: 8.4805e-04 - val_accuracy: 0.1051\n",
            "Epoch 65/200\n",
            "29/29 [==============================] - 18s 624ms/step - loss: 8.4119e-04 - accuracy: 0.0958 - val_loss: 8.0764e-04 - val_accuracy: 0.1039\n",
            "Epoch 66/200\n",
            "29/29 [==============================] - 19s 645ms/step - loss: 7.6418e-04 - accuracy: 0.0953 - val_loss: 9.3060e-04 - val_accuracy: 0.0909\n",
            "Epoch 67/200\n",
            "29/29 [==============================] - 18s 631ms/step - loss: 9.8739e-04 - accuracy: 0.0952 - val_loss: 8.5815e-04 - val_accuracy: 0.0994\n",
            "Epoch 68/200\n",
            "29/29 [==============================] - 18s 612ms/step - loss: 7.3843e-04 - accuracy: 0.0984 - val_loss: 0.0010 - val_accuracy: 0.0760\n",
            "Epoch 69/200\n",
            "29/29 [==============================] - 17s 566ms/step - loss: 8.4472e-04 - accuracy: 0.0965 - val_loss: 7.4136e-04 - val_accuracy: 0.1033\n",
            "Epoch 70/200\n",
            "29/29 [==============================] - 16s 550ms/step - loss: 8.2655e-04 - accuracy: 0.0922 - val_loss: 8.3895e-04 - val_accuracy: 0.0984\n",
            "Epoch 71/200\n",
            "29/29 [==============================] - 16s 559ms/step - loss: 8.9948e-04 - accuracy: 0.0996 - val_loss: 0.0010 - val_accuracy: 0.0929\n",
            "Epoch 72/200\n",
            "29/29 [==============================] - 18s 609ms/step - loss: 8.5841e-04 - accuracy: 0.1002 - val_loss: 7.5240e-04 - val_accuracy: 0.0862\n",
            "Epoch 73/200\n",
            "29/29 [==============================] - 18s 624ms/step - loss: 7.4119e-04 - accuracy: 0.0973 - val_loss: 0.0011 - val_accuracy: 0.0958\n",
            "Epoch 74/200\n",
            "29/29 [==============================] - 17s 606ms/step - loss: 8.4513e-04 - accuracy: 0.0986 - val_loss: 6.8835e-04 - val_accuracy: 0.0907\n",
            "Epoch 75/200\n",
            "29/29 [==============================] - 18s 625ms/step - loss: 8.5320e-04 - accuracy: 0.0959 - val_loss: 9.3967e-04 - val_accuracy: 0.0933\n",
            "Epoch 76/200\n",
            "29/29 [==============================] - 18s 615ms/step - loss: 7.5932e-04 - accuracy: 0.0975 - val_loss: 7.7568e-04 - val_accuracy: 0.0866\n",
            "Epoch 77/200\n",
            "29/29 [==============================] - 18s 621ms/step - loss: 7.9700e-04 - accuracy: 0.0956 - val_loss: 8.1355e-04 - val_accuracy: 0.0954\n",
            "Epoch 78/200\n",
            "29/29 [==============================] - 17s 592ms/step - loss: 8.2006e-04 - accuracy: 0.0964 - val_loss: 7.1954e-04 - val_accuracy: 0.0925\n",
            "Epoch 79/200\n",
            "29/29 [==============================] - 16s 548ms/step - loss: 8.3789e-04 - accuracy: 0.0981 - val_loss: 6.5033e-04 - val_accuracy: 0.1021\n",
            "Epoch 80/200\n",
            "29/29 [==============================] - 17s 594ms/step - loss: 9.0440e-04 - accuracy: 0.0968 - val_loss: 8.3599e-04 - val_accuracy: 0.0968\n",
            "Epoch 81/200\n",
            "29/29 [==============================] - 16s 561ms/step - loss: 8.1107e-04 - accuracy: 0.0953 - val_loss: 7.4616e-04 - val_accuracy: 0.0948\n",
            "Epoch 82/200\n",
            "29/29 [==============================] - 18s 603ms/step - loss: 7.2441e-04 - accuracy: 0.1001 - val_loss: 8.6178e-04 - val_accuracy: 0.0817\n",
            "Epoch 83/200\n",
            "29/29 [==============================] - 18s 611ms/step - loss: 7.5719e-04 - accuracy: 0.0991 - val_loss: 7.0789e-04 - val_accuracy: 0.0952\n",
            "Epoch 84/200\n",
            "29/29 [==============================] - 18s 610ms/step - loss: 6.7901e-04 - accuracy: 0.1008 - val_loss: 6.9664e-04 - val_accuracy: 0.1190\n",
            "Epoch 85/200\n",
            "29/29 [==============================] - 18s 626ms/step - loss: 8.8769e-04 - accuracy: 0.1004 - val_loss: 0.0011 - val_accuracy: 0.0901\n",
            "Epoch 86/200\n",
            "29/29 [==============================] - 18s 622ms/step - loss: 8.0679e-04 - accuracy: 0.0984 - val_loss: 6.6320e-04 - val_accuracy: 0.0976\n",
            "Epoch 87/200\n",
            "29/29 [==============================] - 18s 623ms/step - loss: 7.2294e-04 - accuracy: 0.1001 - val_loss: 7.8153e-04 - val_accuracy: 0.1015\n",
            "Epoch 88/200\n",
            "29/29 [==============================] - 18s 608ms/step - loss: 6.9410e-04 - accuracy: 0.1009 - val_loss: 7.8713e-04 - val_accuracy: 0.0763\n",
            "Epoch 89/200\n",
            "29/29 [==============================] - 17s 575ms/step - loss: 9.5972e-04 - accuracy: 0.0957 - val_loss: 0.0010 - val_accuracy: 0.0803\n",
            "Epoch 90/200\n",
            "29/29 [==============================] - 16s 544ms/step - loss: 6.8350e-04 - accuracy: 0.1015 - val_loss: 7.9517e-04 - val_accuracy: 0.1015\n",
            "Epoch 91/200\n",
            "29/29 [==============================] - 17s 578ms/step - loss: 7.5907e-04 - accuracy: 0.1013 - val_loss: 7.5124e-04 - val_accuracy: 0.0891\n",
            "Epoch 92/200\n",
            "29/29 [==============================] - 18s 625ms/step - loss: 9.0806e-04 - accuracy: 0.0984 - val_loss: 0.0010 - val_accuracy: 0.0763\n",
            "Epoch 93/200\n",
            "29/29 [==============================] - 18s 625ms/step - loss: 6.8743e-04 - accuracy: 0.1038 - val_loss: 6.4315e-04 - val_accuracy: 0.0941\n",
            "Epoch 94/200\n",
            "29/29 [==============================] - 17s 607ms/step - loss: 9.1849e-04 - accuracy: 0.0994 - val_loss: 9.9133e-04 - val_accuracy: 0.0887\n",
            "Epoch 95/200\n",
            "29/29 [==============================] - 18s 612ms/step - loss: 7.2287e-04 - accuracy: 0.1021 - val_loss: 7.5697e-04 - val_accuracy: 0.0846\n",
            "Epoch 96/200\n",
            "29/29 [==============================] - 17s 609ms/step - loss: 6.3079e-04 - accuracy: 0.1064 - val_loss: 8.2217e-04 - val_accuracy: 0.0978\n",
            "Epoch 97/200\n",
            "29/29 [==============================] - 18s 616ms/step - loss: 7.6351e-04 - accuracy: 0.0995 - val_loss: 7.3877e-04 - val_accuracy: 0.0915\n",
            "Epoch 98/200\n",
            "29/29 [==============================] - 17s 587ms/step - loss: 7.4937e-04 - accuracy: 0.1021 - val_loss: 7.5605e-04 - val_accuracy: 0.0941\n",
            "Epoch 99/200\n",
            "29/29 [==============================] - 16s 558ms/step - loss: 8.0523e-04 - accuracy: 0.0980 - val_loss: 6.4920e-04 - val_accuracy: 0.1033\n",
            "Epoch 100/200\n",
            "29/29 [==============================] - 17s 584ms/step - loss: 6.7477e-04 - accuracy: 0.1024 - val_loss: 7.9458e-04 - val_accuracy: 0.0952\n",
            "Epoch 101/200\n",
            "29/29 [==============================] - 17s 575ms/step - loss: 7.6945e-04 - accuracy: 0.1032 - val_loss: 9.1778e-04 - val_accuracy: 0.1110\n",
            "Epoch 102/200\n",
            "29/29 [==============================] - 18s 602ms/step - loss: 7.3038e-04 - accuracy: 0.0989 - val_loss: 6.8400e-04 - val_accuracy: 0.1088\n",
            "Epoch 103/200\n",
            "29/29 [==============================] - 17s 610ms/step - loss: 7.5475e-04 - accuracy: 0.1039 - val_loss: 8.8215e-04 - val_accuracy: 0.0982\n",
            "Epoch 104/200\n",
            "29/29 [==============================] - 18s 624ms/step - loss: 7.2463e-04 - accuracy: 0.1018 - val_loss: 6.8081e-04 - val_accuracy: 0.1061\n",
            "Epoch 105/200\n",
            "29/29 [==============================] - 17s 607ms/step - loss: 7.4680e-04 - accuracy: 0.1008 - val_loss: 8.1258e-04 - val_accuracy: 0.0874\n",
            "Epoch 106/200\n",
            "29/29 [==============================] - 18s 612ms/step - loss: 7.0609e-04 - accuracy: 0.1007 - val_loss: 6.9799e-04 - val_accuracy: 0.0840\n",
            "Epoch 107/200\n",
            "29/29 [==============================] - 18s 634ms/step - loss: 7.4849e-04 - accuracy: 0.1020 - val_loss: 7.2607e-04 - val_accuracy: 0.1187\n",
            "Epoch 108/200\n",
            "29/29 [==============================] - 16s 565ms/step - loss: 8.4653e-04 - accuracy: 0.1006 - val_loss: 7.8463e-04 - val_accuracy: 0.0874\n",
            "Epoch 109/200\n",
            "29/29 [==============================] - 17s 566ms/step - loss: 7.1295e-04 - accuracy: 0.1007 - val_loss: 7.2829e-04 - val_accuracy: 0.0923\n",
            "Epoch 110/200\n",
            "29/29 [==============================] - 16s 548ms/step - loss: 6.8940e-04 - accuracy: 0.0978 - val_loss: 8.1988e-04 - val_accuracy: 0.0968\n",
            "Epoch 111/200\n",
            "29/29 [==============================] - 17s 591ms/step - loss: 6.5669e-04 - accuracy: 0.0995 - val_loss: 9.1625e-04 - val_accuracy: 0.0840\n",
            "Epoch 112/200\n",
            "29/29 [==============================] - 17s 607ms/step - loss: 0.0010 - accuracy: 0.0981 - val_loss: 8.2862e-04 - val_accuracy: 0.0858\n",
            "Epoch 113/200\n",
            "29/29 [==============================] - 17s 607ms/step - loss: 6.2982e-04 - accuracy: 0.1014 - val_loss: 7.4532e-04 - val_accuracy: 0.0933\n",
            "Epoch 114/200\n",
            "29/29 [==============================] - 18s 614ms/step - loss: 6.8328e-04 - accuracy: 0.1048 - val_loss: 8.5039e-04 - val_accuracy: 0.0899\n",
            "Epoch 115/200\n",
            "29/29 [==============================] - 17s 609ms/step - loss: 8.0231e-04 - accuracy: 0.1020 - val_loss: 0.0012 - val_accuracy: 0.0876\n",
            "Epoch 116/200\n",
            "29/29 [==============================] - 18s 639ms/step - loss: 8.2587e-04 - accuracy: 0.1000 - val_loss: 6.3243e-04 - val_accuracy: 0.0913\n",
            "Epoch 117/200\n",
            "29/29 [==============================] - 18s 615ms/step - loss: 6.2068e-04 - accuracy: 0.1007 - val_loss: 6.6010e-04 - val_accuracy: 0.0846\n",
            "Epoch 118/200\n",
            "29/29 [==============================] - 16s 544ms/step - loss: 6.8133e-04 - accuracy: 0.1018 - val_loss: 6.6240e-04 - val_accuracy: 0.1041\n",
            "Epoch 119/200\n",
            "29/29 [==============================] - 17s 566ms/step - loss: 7.4042e-04 - accuracy: 0.1033 - val_loss: 7.7617e-04 - val_accuracy: 0.0797\n",
            "Epoch 120/200\n",
            "29/29 [==============================] - 16s 557ms/step - loss: 6.7096e-04 - accuracy: 0.1016 - val_loss: 7.9784e-04 - val_accuracy: 0.1007\n",
            "Epoch 121/200\n",
            "29/29 [==============================] - 18s 604ms/step - loss: 8.1765e-04 - accuracy: 0.1017 - val_loss: 7.2984e-04 - val_accuracy: 0.1129\n",
            "Epoch 122/200\n",
            "29/29 [==============================] - 18s 614ms/step - loss: 7.0082e-04 - accuracy: 0.1031 - val_loss: 7.7543e-04 - val_accuracy: 0.0974\n",
            "Epoch 123/200\n",
            "29/29 [==============================] - 18s 611ms/step - loss: 7.3623e-04 - accuracy: 0.1014 - val_loss: 0.0011 - val_accuracy: 0.0797\n",
            "Epoch 124/200\n",
            "29/29 [==============================] - 18s 624ms/step - loss: 7.3285e-04 - accuracy: 0.1007 - val_loss: 6.6189e-04 - val_accuracy: 0.1074\n",
            "Epoch 125/200\n",
            "29/29 [==============================] - 18s 616ms/step - loss: 6.9240e-04 - accuracy: 0.1033 - val_loss: 6.4910e-04 - val_accuracy: 0.0836\n",
            "Epoch 126/200\n",
            "29/29 [==============================] - 17s 603ms/step - loss: 6.7273e-04 - accuracy: 0.1031 - val_loss: 7.8813e-04 - val_accuracy: 0.1025\n",
            "Epoch 127/200\n",
            "29/29 [==============================] - 17s 572ms/step - loss: 7.2429e-04 - accuracy: 0.1034 - val_loss: 7.8452e-04 - val_accuracy: 0.1061\n",
            "Epoch 128/200\n",
            "29/29 [==============================] - 17s 591ms/step - loss: 6.9721e-04 - accuracy: 0.1008 - val_loss: 7.5491e-04 - val_accuracy: 0.0996\n",
            "Epoch 129/200\n",
            "29/29 [==============================] - 17s 566ms/step - loss: 6.8694e-04 - accuracy: 0.1028 - val_loss: 6.7084e-04 - val_accuracy: 0.1041\n",
            "Epoch 130/200\n",
            "29/29 [==============================] - 16s 553ms/step - loss: 7.6382e-04 - accuracy: 0.1018 - val_loss: 9.5432e-04 - val_accuracy: 0.0925\n",
            "Epoch 131/200\n",
            "29/29 [==============================] - 18s 605ms/step - loss: 7.1175e-04 - accuracy: 0.0988 - val_loss: 6.1585e-04 - val_accuracy: 0.1100\n",
            "Epoch 132/200\n",
            "29/29 [==============================] - 18s 612ms/step - loss: 6.5257e-04 - accuracy: 0.1052 - val_loss: 0.0010 - val_accuracy: 0.0773\n",
            "Epoch 133/200\n",
            "29/29 [==============================] - 18s 613ms/step - loss: 8.5384e-04 - accuracy: 0.0992 - val_loss: 8.3910e-04 - val_accuracy: 0.1002\n",
            "Epoch 134/200\n",
            "29/29 [==============================] - 18s 626ms/step - loss: 6.4509e-04 - accuracy: 0.1025 - val_loss: 7.4379e-04 - val_accuracy: 0.0996\n",
            "Epoch 135/200\n",
            "29/29 [==============================] - 17s 609ms/step - loss: 6.7454e-04 - accuracy: 0.1067 - val_loss: 6.5522e-04 - val_accuracy: 0.0952\n",
            "Epoch 136/200\n",
            "29/29 [==============================] - 18s 624ms/step - loss: 7.4220e-04 - accuracy: 0.1011 - val_loss: 8.2674e-04 - val_accuracy: 0.0860\n",
            "Epoch 137/200\n",
            "29/29 [==============================] - 17s 598ms/step - loss: 6.8969e-04 - accuracy: 0.1023 - val_loss: 6.9718e-04 - val_accuracy: 0.1122\n",
            "Epoch 138/200\n",
            "29/29 [==============================] - 17s 574ms/step - loss: 7.5559e-04 - accuracy: 0.1040 - val_loss: 7.6603e-04 - val_accuracy: 0.0972\n",
            "Epoch 139/200\n",
            "29/29 [==============================] - 17s 562ms/step - loss: 5.9363e-04 - accuracy: 0.1057 - val_loss: 7.3659e-04 - val_accuracy: 0.0830\n",
            "Epoch 140/200\n",
            "29/29 [==============================] - 17s 566ms/step - loss: 6.8319e-04 - accuracy: 0.1003 - val_loss: 8.7903e-04 - val_accuracy: 0.0990\n",
            "Epoch 141/200\n",
            "29/29 [==============================] - 18s 620ms/step - loss: 7.3549e-04 - accuracy: 0.1064 - val_loss: 7.8323e-04 - val_accuracy: 0.0970\n",
            "Epoch 142/200\n",
            "29/29 [==============================] - 17s 609ms/step - loss: 7.7812e-04 - accuracy: 0.1008 - val_loss: 8.0558e-04 - val_accuracy: 0.0830\n",
            "Epoch 143/200\n",
            "29/29 [==============================] - 18s 612ms/step - loss: 6.7441e-04 - accuracy: 0.1041 - val_loss: 7.7930e-04 - val_accuracy: 0.0828\n",
            "Epoch 144/200\n",
            "29/29 [==============================] - 18s 617ms/step - loss: 7.7434e-04 - accuracy: 0.1001 - val_loss: 6.7929e-04 - val_accuracy: 0.0966\n",
            "Epoch 145/200\n",
            "29/29 [==============================] - 19s 656ms/step - loss: 6.3395e-04 - accuracy: 0.1060 - val_loss: 7.0391e-04 - val_accuracy: 0.1013\n",
            "Epoch 146/200\n",
            "29/29 [==============================] - 19s 671ms/step - loss: 6.4912e-04 - accuracy: 0.1023 - val_loss: 7.9257e-04 - val_accuracy: 0.0854\n",
            "Epoch 147/200\n",
            "29/29 [==============================] - 17s 608ms/step - loss: 6.8518e-04 - accuracy: 0.1044 - val_loss: 7.2575e-04 - val_accuracy: 0.0891\n",
            "Epoch 148/200\n",
            "29/29 [==============================] - 17s 589ms/step - loss: 6.6420e-04 - accuracy: 0.1011 - val_loss: 7.7283e-04 - val_accuracy: 0.0913\n",
            "Epoch 149/200\n",
            "29/29 [==============================] - 17s 589ms/step - loss: 7.3419e-04 - accuracy: 0.1046 - val_loss: 9.5334e-04 - val_accuracy: 0.0856\n",
            "Epoch 150/200\n",
            "29/29 [==============================] - 17s 566ms/step - loss: 6.5040e-04 - accuracy: 0.1032 - val_loss: 9.0070e-04 - val_accuracy: 0.0760\n",
            "Epoch 151/200\n",
            "29/29 [==============================] - 16s 549ms/step - loss: 7.6513e-04 - accuracy: 0.1001 - val_loss: 6.9498e-04 - val_accuracy: 0.1051\n",
            "Epoch 152/200\n",
            "29/29 [==============================] - 17s 596ms/step - loss: 6.6599e-04 - accuracy: 0.1024 - val_loss: 7.2410e-04 - val_accuracy: 0.0895\n",
            "Epoch 153/200\n",
            "29/29 [==============================] - 18s 625ms/step - loss: 6.7866e-04 - accuracy: 0.1018 - val_loss: 8.6837e-04 - val_accuracy: 0.0937\n",
            "Epoch 154/200\n",
            "29/29 [==============================] - 18s 613ms/step - loss: 7.2354e-04 - accuracy: 0.1030 - val_loss: 7.6954e-04 - val_accuracy: 0.0895\n",
            "Epoch 155/200\n",
            "29/29 [==============================] - 18s 623ms/step - loss: 6.6564e-04 - accuracy: 0.1054 - val_loss: 7.4368e-04 - val_accuracy: 0.0986\n",
            "Epoch 156/200\n",
            "29/29 [==============================] - 18s 612ms/step - loss: 6.4896e-04 - accuracy: 0.1028 - val_loss: 7.5537e-04 - val_accuracy: 0.0891\n",
            "Epoch 157/200\n",
            "29/29 [==============================] - 18s 614ms/step - loss: 6.8837e-04 - accuracy: 0.1019 - val_loss: 8.4784e-04 - val_accuracy: 0.0901\n",
            "Epoch 158/200\n",
            "29/29 [==============================] - 17s 576ms/step - loss: 6.5097e-04 - accuracy: 0.1041 - val_loss: 8.3718e-04 - val_accuracy: 0.0870\n",
            "Epoch 159/200\n",
            "29/29 [==============================] - 16s 542ms/step - loss: 7.4902e-04 - accuracy: 0.1021 - val_loss: 9.3534e-04 - val_accuracy: 0.0889\n",
            "Epoch 160/200\n",
            "29/29 [==============================] - 16s 546ms/step - loss: 6.4622e-04 - accuracy: 0.1038 - val_loss: 9.0538e-04 - val_accuracy: 0.0809\n",
            "Epoch 161/200\n",
            "29/29 [==============================] - 18s 603ms/step - loss: 6.2858e-04 - accuracy: 0.1034 - val_loss: 8.6081e-04 - val_accuracy: 0.0866\n",
            "Epoch 162/200\n",
            "29/29 [==============================] - 18s 611ms/step - loss: 8.0873e-04 - accuracy: 0.1030 - val_loss: 0.0011 - val_accuracy: 0.0783\n",
            "Epoch 163/200\n",
            "29/29 [==============================] - 18s 628ms/step - loss: 6.5126e-04 - accuracy: 0.1044 - val_loss: 7.8091e-04 - val_accuracy: 0.0998\n",
            "Epoch 164/200\n",
            "29/29 [==============================] - 18s 622ms/step - loss: 6.4347e-04 - accuracy: 0.1034 - val_loss: 7.2672e-04 - val_accuracy: 0.0943\n",
            "Epoch 165/200\n",
            "29/29 [==============================] - 18s 625ms/step - loss: 6.6703e-04 - accuracy: 0.1037 - val_loss: 6.9839e-04 - val_accuracy: 0.1033\n",
            "Epoch 166/200\n",
            "29/29 [==============================] - 17s 600ms/step - loss: 5.9998e-04 - accuracy: 0.1064 - val_loss: 7.4014e-04 - val_accuracy: 0.0937\n",
            "Epoch 167/200\n",
            "29/29 [==============================] - 16s 559ms/step - loss: 7.7876e-04 - accuracy: 0.0997 - val_loss: 7.4363e-04 - val_accuracy: 0.0933\n",
            "Epoch 168/200\n",
            "29/29 [==============================] - 16s 546ms/step - loss: 6.0717e-04 - accuracy: 0.1069 - val_loss: 6.6730e-04 - val_accuracy: 0.0952\n",
            "Epoch 169/200\n",
            "29/29 [==============================] - 16s 556ms/step - loss: 6.6848e-04 - accuracy: 0.1031 - val_loss: 7.6886e-04 - val_accuracy: 0.1000\n",
            "Epoch 170/200\n",
            "29/29 [==============================] - 17s 609ms/step - loss: 6.9130e-04 - accuracy: 0.1011 - val_loss: 8.2226e-04 - val_accuracy: 0.0864\n",
            "Epoch 171/200\n",
            "29/29 [==============================] - 18s 624ms/step - loss: 6.6765e-04 - accuracy: 0.1057 - val_loss: 6.3858e-04 - val_accuracy: 0.0884\n",
            "Epoch 172/200\n",
            "29/29 [==============================] - 18s 615ms/step - loss: 6.2229e-04 - accuracy: 0.1066 - val_loss: 9.0217e-04 - val_accuracy: 0.0850\n",
            "Epoch 173/200\n",
            "29/29 [==============================] - 18s 610ms/step - loss: 8.0149e-04 - accuracy: 0.1015 - val_loss: 8.7164e-04 - val_accuracy: 0.0915\n",
            "Epoch 174/200\n",
            "29/29 [==============================] - 18s 645ms/step - loss: 6.3063e-04 - accuracy: 0.1049 - val_loss: 6.8369e-04 - val_accuracy: 0.0962\n",
            "Epoch 175/200\n",
            "29/29 [==============================] - 18s 627ms/step - loss: 6.4082e-04 - accuracy: 0.1050 - val_loss: 6.5680e-04 - val_accuracy: 0.0998\n",
            "Epoch 176/200\n",
            "29/29 [==============================] - 17s 604ms/step - loss: 6.9227e-04 - accuracy: 0.1024 - val_loss: 9.1993e-04 - val_accuracy: 0.0781\n",
            "Epoch 177/200\n",
            "29/29 [==============================] - 17s 570ms/step - loss: 6.8891e-04 - accuracy: 0.1048 - val_loss: 8.3761e-04 - val_accuracy: 0.1002\n",
            "Epoch 178/200\n",
            "29/29 [==============================] - 17s 564ms/step - loss: 6.2571e-04 - accuracy: 0.1027 - val_loss: 8.0081e-04 - val_accuracy: 0.0909\n",
            "Epoch 179/200\n",
            "29/29 [==============================] - 18s 613ms/step - loss: 5.8300e-04 - accuracy: 0.1077 - val_loss: 6.3680e-04 - val_accuracy: 0.0982\n",
            "Epoch 180/200\n",
            "29/29 [==============================] - 16s 561ms/step - loss: 6.2277e-04 - accuracy: 0.1106 - val_loss: 6.6075e-04 - val_accuracy: 0.1084\n",
            "Epoch 181/200\n",
            "29/29 [==============================] - 18s 623ms/step - loss: 7.7695e-04 - accuracy: 0.1026 - val_loss: 6.3544e-04 - val_accuracy: 0.0968\n",
            "Epoch 182/200\n",
            "29/29 [==============================] - 18s 627ms/step - loss: 6.3860e-04 - accuracy: 0.1048 - val_loss: 6.1052e-04 - val_accuracy: 0.1006\n",
            "Epoch 183/200\n",
            "29/29 [==============================] - 18s 624ms/step - loss: 6.6160e-04 - accuracy: 0.1060 - val_loss: 6.5178e-04 - val_accuracy: 0.1088\n",
            "Epoch 184/200\n",
            "29/29 [==============================] - 17s 606ms/step - loss: 6.1090e-04 - accuracy: 0.1090 - val_loss: 6.1847e-04 - val_accuracy: 0.0966\n",
            "Epoch 185/200\n",
            "29/29 [==============================] - 18s 622ms/step - loss: 6.2959e-04 - accuracy: 0.1016 - val_loss: 7.4468e-04 - val_accuracy: 0.1007\n",
            "Epoch 186/200\n",
            "29/29 [==============================] - 18s 633ms/step - loss: 7.1074e-04 - accuracy: 0.1038 - val_loss: 0.0011 - val_accuracy: 0.0962\n",
            "Epoch 187/200\n",
            "29/29 [==============================] - 17s 585ms/step - loss: 6.8505e-04 - accuracy: 0.1003 - val_loss: 6.1264e-04 - val_accuracy: 0.0966\n",
            "Epoch 188/200\n",
            "29/29 [==============================] - 17s 572ms/step - loss: 5.8051e-04 - accuracy: 0.1050 - val_loss: 5.9877e-04 - val_accuracy: 0.1007\n",
            "Epoch 189/200\n",
            "29/29 [==============================] - 16s 548ms/step - loss: 8.0296e-04 - accuracy: 0.1028 - val_loss: 7.4609e-04 - val_accuracy: 0.0876\n",
            "Epoch 190/200\n",
            "29/29 [==============================] - 16s 557ms/step - loss: 6.1931e-04 - accuracy: 0.1061 - val_loss: 6.2373e-04 - val_accuracy: 0.0980\n",
            "Epoch 191/200\n",
            "29/29 [==============================] - 18s 611ms/step - loss: 6.1532e-04 - accuracy: 0.1078 - val_loss: 6.6803e-04 - val_accuracy: 0.1055\n",
            "Epoch 192/200\n",
            "29/29 [==============================] - 18s 622ms/step - loss: 7.0992e-04 - accuracy: 0.1013 - val_loss: 6.4597e-04 - val_accuracy: 0.0823\n",
            "Epoch 193/200\n",
            "29/29 [==============================] - 18s 616ms/step - loss: 6.4659e-04 - accuracy: 0.1049 - val_loss: 7.0795e-04 - val_accuracy: 0.1033\n",
            "Epoch 194/200\n",
            "29/29 [==============================] - 18s 614ms/step - loss: 6.7038e-04 - accuracy: 0.1061 - val_loss: 6.7922e-04 - val_accuracy: 0.0984\n",
            "Epoch 195/200\n",
            "29/29 [==============================] - 19s 655ms/step - loss: 5.8394e-04 - accuracy: 0.1102 - val_loss: 6.0963e-04 - val_accuracy: 0.0998\n",
            "Epoch 196/200\n",
            "29/29 [==============================] - 18s 634ms/step - loss: 6.0773e-04 - accuracy: 0.1061 - val_loss: 7.4860e-04 - val_accuracy: 0.0960\n",
            "Epoch 197/200\n",
            "29/29 [==============================] - 17s 580ms/step - loss: 6.9210e-04 - accuracy: 0.1031 - val_loss: 7.4012e-04 - val_accuracy: 0.1013\n",
            "Epoch 198/200\n",
            "29/29 [==============================] - 16s 563ms/step - loss: 5.8128e-04 - accuracy: 0.1078 - val_loss: 7.1170e-04 - val_accuracy: 0.0878\n",
            "Epoch 199/200\n",
            "29/29 [==============================] - 16s 542ms/step - loss: 6.9692e-04 - accuracy: 0.1047 - val_loss: 6.8651e-04 - val_accuracy: 0.0966\n",
            "Epoch 200/200\n",
            "29/29 [==============================] - 17s 582ms/step - loss: 6.9668e-04 - accuracy: 0.1036 - val_loss: 8.1192e-04 - val_accuracy: 0.1216\n"
          ]
        }
      ]
    },
    {
      "cell_type": "code",
      "source": [
        "'''\n",
        "caminho = '/content/drive/MyDrive/Unicamp/23.2/DL para sintese de sinais/Projetos computacionais/A1 - Projeto Final/Códigos/'\n",
        "# Salvar o modelo\n",
        "vae.save(caminho+'modelo_vae')\n",
        "# Salvar os pesos\n",
        "vae.save_weights(caminho+'pesos_vae')\n",
        "'''"
      ],
      "metadata": {
        "id": "QtYtwvIuj541"
      },
      "execution_count": null,
      "outputs": []
    },
    {
      "cell_type": "code",
      "source": [
        "# loss curves\n",
        "plt.plot(history.history['loss'])\n",
        "plt.plot(history.history['val_loss'])\n",
        "plt.title('loss curves')\n",
        "plt.ylabel('Loss')\n",
        "plt.xlabel('Epoch')\n",
        "plt.show()"
      ],
      "metadata": {
        "colab": {
          "base_uri": "https://localhost:8080/",
          "height": 477
        },
        "id": "sFw-jnbiYm7A",
        "outputId": "1b4afe48-f07d-4cb9-ccef-b55951eec94a"
      },
      "execution_count": 63,
      "outputs": [
        {
          "output_type": "display_data",
          "data": {
            "text/plain": [
              "<Figure size 640x480 with 1 Axes>"
            ],
            "image/png": "[encoded data removed]"
          },
          "metadata": {}
        }
      ]
    },
    {
      "cell_type": "code",
      "source": [
        "# loss curves\n",
        "plt.plot(history.history['accuracy'])\n",
        "plt.plot(history.history['val_accuracy'])\n",
        "plt.title('val curves')\n",
        "plt.ylabel('Validation')\n",
        "plt.xlabel('Epoch')\n",
        "plt.show()"
      ],
      "metadata": {
        "colab": {
          "base_uri": "https://localhost:8080/",
          "height": 477
        },
        "id": "bhMzr79x5tF8",
        "outputId": "6c6829f3-9332-4dcc-cb2b-32176a8ed25a"
      },
      "execution_count": 64,
      "outputs": [
        {
          "output_type": "display_data",
          "data": {
            "text/plain": [
              "<Figure size 640x480 with 1 Axes>"
            ],
            "image/png": "[encoded data removed]"
          },
          "metadata": {}
        }
      ]
    },
    {
      "cell_type": "markdown",
      "source": [
        "## Espaço latente"
      ],
      "metadata": {
        "id": "jAsNIvdbhtcR"
      }
    },
    {
      "cell_type": "code",
      "source": [
        "'''\n",
        "from tensorflow.keras.models import load_model\n",
        "caminho = '/content/drive/MyDrive/Unicamp/23.2/DL para sintese de sinais/Projetos computacionais/A1 - Projeto Final/Códigos/'\n",
        "# Carregar o modelo\n",
        "vae_carregado = load_model(caminho+'modelo_vae')\n",
        "vae_carregado.summary()\n",
        "'''"
      ],
      "metadata": {
        "colab": {
          "base_uri": "https://localhost:8080/"
        },
        "id": "dSomo41pkUMd",
        "outputId": "04844962-cc17-448c-9759-d65124521d05"
      },
      "execution_count": 32,
      "outputs": [
        {
          "output_type": "stream",
          "name": "stdout",
          "text": [
            "Model: \"vae\"\n",
            "_________________________________________________________________\n",
            " Layer (type)                Output Shape              Param #   \n",
            "=================================================================\n",
            " encoder_input (InputLayer)  [(None, 1, 22, 400)]      0         \n",
            "                                                                 \n",
            " encoder (Functional)        [(None, 2),               686644    \n",
            "                              (None, 2),                         \n",
            "                              (None, 2)]                         \n",
            "                                                                 \n",
            " decoder (Functional)        (None, 1, 22, 400)        910785    \n",
            "                                                                 \n",
            "=================================================================\n",
            "Total params: 1597429 (6.09 MB)\n",
            "Trainable params: 1597045 (6.09 MB)\n",
            "Non-trainable params: 384 (1.50 KB)\n",
            "_________________________________________________________________\n"
          ]
        }
      ]
    },
    {
      "cell_type": "code",
      "source": [
        "# 2D plot of the classes in latent space\n",
        "latent_space, _, _ = encoder.predict(X_test,batch_size=batch_size)"
      ],
      "metadata": {
        "colab": {
          "base_uri": "https://localhost:8080/"
        },
        "id": "grkd64h6Ypyb",
        "outputId": "59d20586-39f8-448a-96b3-d1044b38706d"
      },
      "execution_count": 65,
      "outputs": [
        {
          "output_type": "stream",
          "name": "stdout",
          "text": [
            "8/8 [==============================] - 0s 4ms/step\n"
          ]
        }
      ]
    },
    {
      "cell_type": "markdown",
      "source": [
        "A figura abaixo mostra o espaço latente do dados gerados"
      ],
      "metadata": {
        "id": "Y_6iFUseVKds"
      }
    },
    {
      "cell_type": "code",
      "source": [
        "# Aplicar K-means\n",
        "num_clusters = 4  # Número de clusters igual ao número de labels\n",
        "kmeans = KMeans(n_clusters=num_clusters, random_state=42)\n",
        "cluster_labels = kmeans.fit_predict(latent_space)\n",
        "\n",
        "reducer = umap.UMAP(n_neighbors=10,min_dist=0.5) #50 e 0.5\n",
        "embedding = reducer.fit_transform(latent_space)\n",
        "\n",
        "# Visualizar UMAP\n",
        "import plotly.express as px\n",
        "proj = pd.DataFrame(embedding)\n",
        "proj.columns = [\"componente_1\", \"componente_2\"]\n",
        "proj[\"labels\"] = y_train[:231]\n",
        "fig = px.scatter(proj, x='componente_1', y='componente_2', color = cluster_labels, width=800)\n",
        "fig.show()"
      ],
      "metadata": {
        "colab": {
          "base_uri": "https://localhost:8080/",
          "height": 597
        },
        "id": "PV5HjGK1bbY7",
        "outputId": "4610fbe7-75c7-4d41-df99-ebbe24f74cda"
      },
      "execution_count": 66,
      "outputs": [
        {
          "output_type": "stream",
          "name": "stderr",
          "text": [
            "/usr/local/lib/python3.10/dist-packages/sklearn/cluster/_kmeans.py:870: FutureWarning: The default value of `n_init` will change from 10 to 'auto' in 1.4. Set the value of `n_init` explicitly to suppress the warning\n",
            "  warnings.warn(\n"
          ]
        },
        {
          "output_type": "display_data",
          "data": {
            "text/html": [
              "<html>\n",
              "<head><meta charset=\"utf-8\" /></head>\n",
              "<body>\n",
              "    <div>            <script src=\"https://cdnjs.cloudflare.com/ajax/libs/mathjax/2.7.5/MathJax.js?config=TeX-AMS-MML_SVG\"></script><script type=\"text/javascript\">if (window.MathJax && window.MathJax.Hub && window.MathJax.Hub.Config) {window.MathJax.Hub.Config({SVG: {font: \"STIX-Web\"}});}</script>                <script type=\"text/javascript\">window.PlotlyConfig = {MathJaxConfig: 'local'};</script>\n",
              "        <script charset=\"utf-8\" src=\"https://cdn.plot.ly/plotly-2.24.1.min.js\"></script>                <div id=\"73b0ecd6-13eb-43ae-be2a-1a6ebc6702a3\" class=\"plotly-graph-div\" style=\"height:525px; width:800px;\"></div>            <script type=\"text/javascript\">                                    window.PLOTLYENV=window.PLOTLYENV || {};                                    if (document.getElementById(\"73b0ecd6-13eb-43ae-be2a-1a6ebc6702a3\")) {                    Plotly.newPlot(                        \"73b0ecd6-13eb-43ae-be2a-1a6ebc6702a3\",                        [{\"hovertemplate\":\"componente_1=%{x}\\u003cbr\\u003ecomponente_2=%{y}\\u003cbr\\u003ecolor=%{marker.color}\\u003cextra\\u003e\\u003c\\u002fextra\\u003e\",\"legendgroup\":\"\",\"marker\":{\"color\":[3,3,2,2,2,2,1,3,1,2,0,3,1,0,2,1,3,3,2,2,0,2,3,1,2,0,3,3,0,2,2,1,3,0,3,1,2,3,3,0,0,2,0,3,3,0,3,0,1,0,3,3,3,3,2,0,3,2,3,0,3,0,0,0,0,3,0,0,0,2,2,2,3,0,3,3,0,3,2,3,3,3,3,3,2,3,0,2,3,2,1,0,1,3,2,3,2,2,0,1,3,2,0,0,0,3,2,3,2,3,3,1,2,3,2,2,3,0,3,0,3,3,0,1,2,0,3,3,0,3,3,2,2,2,0,0,0,0,2,2,3,2,0,3,3,1,1,2,3,0,0,3,3,0,2,2,0,2,3,2,3,0,0,2,3,0,0,0,0,0,2,0,2,3,3,1,3,2,2,3,3,0,3,0,3,2,3,3,1,3,3,3,3,3,3,1,2,3,0,3,2,3,0,2,1,3,3,3,0,2,3,2,3,2,0,0,2,2,3,0,2,2,2,2,1,0,3,1,2,0,2],\"coloraxis\":\"coloraxis\",\"symbol\":\"circle\"},\"mode\":\"markers\",\"name\":\"\",\"orientation\":\"v\",\"showlegend\":false,\"x\":[2.1388742923736572,2.226854085922241,9.601920127868652,13.532261848449707,13.234593391418457,12.238637924194336,-1.5094467401504517,4.293035507202148,-1.1352241039276123,12.953648567199707,8.451668739318848,2.232464075088501,-0.2060145139694214,8.917492866516113,12.391571044921875,-1.390576720237732,3.2920923233032227,0.7807331681251526,12.37529468536377,10.526355743408203,3.301504135131836,11.038509368896484,2.7156665325164795,-1.527524471282959,11.261151313781738,10.096993446350098,1.9503777027130127,3.447643280029297,3.474902868270874,11.444387435913086,10.11948013305664,-1.4104708433151245,2.8804550170898438,8.694233894348145,0.4076656401157379,-1.0359423160552979,10.676325798034668,-0.16793251037597656,4.4428253173828125,6.443160057067871,8.714306831359863,13.648541450500488,7.096827030181885,2.858597993850708,3.491219997406006,8.054790496826172,3.6545462608337402,7.236510276794434,-0.9778501987457275,8.391114234924316,0.9646703600883484,1.3875412940979004,2.2491226196289062,1.9093929529190063,11.18457317352295,7.669539928436279,2.454057455062866,12.619199752807617,-0.9066483974456787,7.802551746368408,0.47445058822631836,7.183229923248291,4.385987281799316,7.565373420715332,7.589508056640625,2.9950408935546875,7.549683570861816,5.163132667541504,3.758237838745117,11.515459060668945,12.491236686706543,12.805697441101074,3.564541816711426,10.383511543273926,2.429630756378174,3.09796142578125,8.629615783691406,-0.29573115706443787,12.735210418701172,4.1636528968811035,3.509669542312622,2.44040584564209,1.6144276857376099,1.4639965295791626,13.152889251708984,1.523682951927185,8.766642570495605,13.596678733825684,0.1754833161830902,13.348688125610352,-1.1219446659088135,8.19913387298584,-0.8724774718284607,1.1484535932540894,12.034802436828613,2.157520055770874,13.803189277648926,10.645976066589355,5.011790752410889,-1.2199103832244873,3.8027219772338867,10.443679809570312,9.36005687713623,7.479065895080566,7.418089389801025,4.171626567840576,12.621940612792969,1.8203020095825195,11.695388793945312,2.67645525932312,3.3506505489349365,-1.340334415435791,11.627669334411621,0.5010239481925964,10.62194538116455,13.65568733215332,3.0052411556243896,10.542346000671387,3.5941555500030518,9.679856300354004,3.094792366027832,0.11256474256515503,3.672827959060669,-1.2762564420700073,13.347315788269043,7.341649532318115,-0.09927920252084732,0.599922776222229,5.48287296295166,0.12754105031490326,3.9717891216278076,11.151564598083496,7.592323303222656,13.282644271850586,8.264906883239746,4.980887413024902,5.568112850189209,6.820651531219482,10.277969360351562,9.272793769836426,0.845903754234314,8.026491165161133,3.8784544467926025,1.7680435180664062,4.764547824859619,-0.4842519462108612,-1.0717848539352417,13.828774452209473,2.7468128204345703,6.836903095245361,9.040961265563965,3.3573033809661865,1.779921293258667,10.051277160644531,11.070948600769043,10.22213077545166,5.797968864440918,9.89663314819336,0.9825807809829712,10.115309715270996,2.9984381198883057,9.33825397491455,4.992513656616211,13.846305847167969,0.07596659660339355,5.4432373046875,6.3549485206604,6.126656532287598,9.644331932067871,9.581952095031738,12.916443824768066,7.885263919830322,12.482162475585938,2.3308310508728027,3.1600983142852783,-0.9513009190559387,2.3084564208984375,11.393046379089355,12.045866012573242,-0.17572781443595886,4.177731513977051,6.516838550567627,-1.3275644779205322,5.4066877365112305,3.283599853515625,10.646519660949707,3.560044765472412,1.7365237474441528,0.10894167423248291,3.275489568710327,2.4147369861602783,3.7932655811309814,0.5617086291313171,-0.2850092947483063,3.72926664352417,-0.10421185195446014,9.203400611877441,1.4253236055374146,7.272421836853027,2.453075647354126,9.81717300415039,2.4901630878448486,6.575150489807129,13.029269218444824,-1.3609094619750977,2.093787431716919,-0.1302899420261383,0.5875062942504883,9.462747573852539,10.396729469299316,-0.5171728730201721,13.37724494934082,3.6576321125030518,13.256951332092285,9.960250854492188,7.466695785522461,10.804299354553223,13.67078971862793,1.087671160697937,6.156300067901611,7.749408721923828,13.345242500305176,13.570433616638184,10.98714542388916,-0.9506479501724243,7.495852470397949,0.31029456853866577,-1.2219280004501343,9.939103126525879,8.806500434875488,13.650693893432617],\"xaxis\":\"x\",\"y\":[9.694416999816895,9.038301467895508,9.686971664428711,10.299769401550293,10.497239112854004,8.120832443237305,4.465270042419434,11.785428047180176,1.591294288635254,11.046625137329102,14.049717903137207,6.760064125061035,3.8881845474243164,13.601085662841797,11.617422103881836,2.061131238937378,6.590033531188965,10.047416687011719,10.43533992767334,8.46668815612793,13.434121131896973,10.974211692810059,6.838813781738281,3.6442770957946777,10.442522048950195,13.525068283081055,10.72853946685791,9.85153579711914,13.088047981262207,12.32149887084961,9.91242504119873,3.199216365814209,11.800795555114746,14.07062816619873,5.281895160675049,2.0023274421691895,10.929876327514648,6.351172924041748,11.547550201416016,14.064169883728027,14.32933521270752,9.97726058959961,14.609209060668945,9.936197280883789,7.6066060066223145,14.882840156555176,7.842771530151367,12.494890213012695,3.5243890285491943,14.397482872009277,10.303176879882812,8.362602233886719,8.013870239257812,8.07420825958252,12.019948959350586,12.18291187286377,11.131492614746094,9.43435287475586,5.156569004058838,11.659621238708496,10.440922737121582,9.776450157165527,13.700761795043945,12.403066635131836,9.961341857910156,7.359745979309082,11.801715850830078,12.268698692321777,13.47127914428711,8.039957046508789,11.214475631713867,8.826508522033691,10.010466575622559,12.891518592834473,7.112245082855225,10.169565200805664,14.901141166687012,5.948489665985107,9.500115394592285,10.198920249938965,9.195066452026367,7.731233596801758,11.139230728149414,7.968597412109375,11.404532432556152,6.433378219604492,14.817765235900879,11.244300842285156,6.133252143859863,8.556143760681152,3.677218198776245,14.706247329711914,1.255197525024414,6.131209373474121,8.024846076965332,11.905900955200195,8.395034790039062,11.37501049041748,11.472926139831543,4.532479286193848,8.787644386291504,10.867949485778809,14.897812843322754,9.479671478271484,14.856781005859375,7.799951076507568,8.425556182861328,6.9851789474487305,10.356623649597168,9.75509262084961,12.530899047851562,3.789623975753784,7.893685340881348,5.650050640106201,10.129195213317871,8.133432388305664,10.348163604736328,13.187702178955078,11.98636245727539,12.945390701293945,8.114171981811523,9.843118667602539,13.35270881652832,1.3582863807678223,11.423361778259277,15.023587226867676,6.9087934494018555,9.977810859680176,12.088432312011719,5.465400695800781,11.217318534851074,8.244479179382324,9.754481315612793,8.051057815551758,11.898600578308105,11.1925048828125,12.349366188049316,13.403595924377441,10.429638862609863,9.541556358337402,7.936011791229248,9.473468780517578,13.706527709960938,10.553504943847656,11.054421424865723,3.686727523803711,1.6151936054229736,10.21137523651123,12.605080604553223,14.681013107299805,14.557209968566895,6.460895538330078,6.66925573348999,13.83498477935791,12.733019828796387,8.83984661102295,11.653353691101074,10.040586471557617,8.297264099121094,9.7470064163208,6.387250900268555,13.517229080200195,11.973782539367676,10.798184394836426,9.645501136779785,13.933725357055664,14.406134605407715,13.854670524597168,14.482939720153809,14.237116813659668,8.972208976745605,11.199532508850098,11.857998847961426,11.367593765258789,10.688730239868164,1.6986467838287354,10.27353572845459,8.139880180358887,10.171669006347656,5.155816078186035,10.935702323913574,13.42840576171875,5.0291924476623535,11.83950424194336,11.087608337402344,9.819843292236328,8.247784614562988,8.123453140258789,4.442481994628906,6.676651954650879,8.515199661254883,9.466350555419922,9.154325485229492,5.127312660217285,11.491222381591797,4.045373916625977,10.093347549438477,11.322935104370117,13.04349136352539,8.292162895202637,9.281936645507812,12.085312843322754,13.862671852111816,9.563727378845215,3.9678211212158203,9.933568000793457,5.848302364349365,10.236674308776855,13.292795181274414,9.50497817993164,6.118676662445068,9.603714942932129,7.230654716491699,8.174025535583496,14.265429496765137,13.243842124938965,12.109545707702637,8.339503288269043,7.592390537261963,13.504889488220215,9.539095878601074,11.112456321716309,7.895767688751221,8.12182903289795,3.251293420791626,9.831707954406738,9.645211219787598,3.087284803390503,8.834888458251953,13.34127140045166,10.816991806030273],\"yaxis\":\"y\",\"type\":\"scatter\"}],                        {\"template\":{\"data\":{\"histogram2dcontour\":[{\"type\":\"histogram2dcontour\",\"colorbar\":{\"outlinewidth\":0,\"ticks\":\"\"},\"colorscale\":[[0.0,\"#0d0887\"],[0.1111111111111111,\"#46039f\"],[0.2222222222222222,\"#7201a8\"],[0.3333333333333333,\"#9c179e\"],[0.4444444444444444,\"#bd3786\"],[0.5555555555555556,\"#d8576b\"],[0.6666666666666666,\"#ed7953\"],[0.7777777777777778,\"#fb9f3a\"],[0.8888888888888888,\"#fdca26\"],[1.0,\"#f0f921\"]]}],\"choropleth\":[{\"type\":\"choropleth\",\"colorbar\":{\"outlinewidth\":0,\"ticks\":\"\"}}],\"histogram2d\":[{\"type\":\"histogram2d\",\"colorbar\":{\"outlinewidth\":0,\"ticks\":\"\"},\"colorscale\":[[0.0,\"#0d0887\"],[0.1111111111111111,\"#46039f\"],[0.2222222222222222,\"#7201a8\"],[0.3333333333333333,\"#9c179e\"],[0.4444444444444444,\"#bd3786\"],[0.5555555555555556,\"#d8576b\"],[0.6666666666666666,\"#ed7953\"],[0.7777777777777778,\"#fb9f3a\"],[0.8888888888888888,\"#fdca26\"],[1.0,\"#f0f921\"]]}],\"heatmap\":[{\"type\":\"heatmap\",\"colorbar\":{\"outlinewidth\":0,\"ticks\":\"\"},\"colorscale\":[[0.0,\"#0d0887\"],[0.1111111111111111,\"#46039f\"],[0.2222222222222222,\"#7201a8\"],[0.3333333333333333,\"#9c179e\"],[0.4444444444444444,\"#bd3786\"],[0.5555555555555556,\"#d8576b\"],[0.6666666666666666,\"#ed7953\"],[0.7777777777777778,\"#fb9f3a\"],[0.8888888888888888,\"#fdca26\"],[1.0,\"#f0f921\"]]}],\"heatmapgl\":[{\"type\":\"heatmapgl\",\"colorbar\":{\"outlinewidth\":0,\"ticks\":\"\"},\"colorscale\":[[0.0,\"#0d0887\"],[0.1111111111111111,\"#46039f\"],[0.2222222222222222,\"#7201a8\"],[0.3333333333333333,\"#9c179e\"],[0.4444444444444444,\"#bd3786\"],[0.5555555555555556,\"#d8576b\"],[0.6666666666666666,\"#ed7953\"],[0.7777777777777778,\"#fb9f3a\"],[0.8888888888888888,\"#fdca26\"],[1.0,\"#f0f921\"]]}],\"contourcarpet\":[{\"type\":\"contourcarpet\",\"colorbar\":{\"outlinewidth\":0,\"ticks\":\"\"}}],\"contour\":[{\"type\":\"contour\",\"colorbar\":{\"outlinewidth\":0,\"ticks\":\"\"},\"colorscale\":[[0.0,\"#0d0887\"],[0.1111111111111111,\"#46039f\"],[0.2222222222222222,\"#7201a8\"],[0.3333333333333333,\"#9c179e\"],[0.4444444444444444,\"#bd3786\"],[0.5555555555555556,\"#d8576b\"],[0.6666666666666666,\"#ed7953\"],[0.7777777777777778,\"#fb9f3a\"],[0.8888888888888888,\"#fdca26\"],[1.0,\"#f0f921\"]]}],\"surface\":[{\"type\":\"surface\",\"colorbar\":{\"outlinewidth\":0,\"ticks\":\"\"},\"colorscale\":[[0.0,\"#0d0887\"],[0.1111111111111111,\"#46039f\"],[0.2222222222222222,\"#7201a8\"],[0.3333333333333333,\"#9c179e\"],[0.4444444444444444,\"#bd3786\"],[0.5555555555555556,\"#d8576b\"],[0.6666666666666666,\"#ed7953\"],[0.7777777777777778,\"#fb9f3a\"],[0.8888888888888888,\"#fdca26\"],[1.0,\"#f0f921\"]]}],\"mesh3d\":[{\"type\":\"mesh3d\",\"colorbar\":{\"outlinewidth\":0,\"ticks\":\"\"}}],\"scatter\":[{\"fillpattern\":{\"fillmode\":\"overlay\",\"size\":10,\"solidity\":0.2},\"type\":\"scatter\"}],\"parcoords\":[{\"type\":\"parcoords\",\"line\":{\"colorbar\":{\"outlinewidth\":0,\"ticks\":\"\"}}}],\"scatterpolargl\":[{\"type\":\"scatterpolargl\",\"marker\":{\"colorbar\":{\"outlinewidth\":0,\"ticks\":\"\"}}}],\"bar\":[{\"error_x\":{\"color\":\"#2a3f5f\"},\"error_y\":{\"color\":\"#2a3f5f\"},\"marker\":{\"line\":{\"color\":\"#E5ECF6\",\"width\":0.5},\"pattern\":{\"fillmode\":\"overlay\",\"size\":10,\"solidity\":0.2}},\"type\":\"bar\"}],\"scattergeo\":[{\"type\":\"scattergeo\",\"marker\":{\"colorbar\":{\"outlinewidth\":0,\"ticks\":\"\"}}}],\"scatterpolar\":[{\"type\":\"scatterpolar\",\"marker\":{\"colorbar\":{\"outlinewidth\":0,\"ticks\":\"\"}}}],\"histogram\":[{\"marker\":{\"pattern\":{\"fillmode\":\"overlay\",\"size\":10,\"solidity\":0.2}},\"type\":\"histogram\"}],\"scattergl\":[{\"type\":\"scattergl\",\"marker\":{\"colorbar\":{\"outlinewidth\":0,\"ticks\":\"\"}}}],\"scatter3d\":[{\"type\":\"scatter3d\",\"line\":{\"colorbar\":{\"outlinewidth\":0,\"ticks\":\"\"}},\"marker\":{\"colorbar\":{\"outlinewidth\":0,\"ticks\":\"\"}}}],\"scattermapbox\":[{\"type\":\"scattermapbox\",\"marker\":{\"colorbar\":{\"outlinewidth\":0,\"ticks\":\"\"}}}],\"scatterternary\":[{\"type\":\"scatterternary\",\"marker\":{\"colorbar\":{\"outlinewidth\":0,\"ticks\":\"\"}}}],\"scattercarpet\":[{\"type\":\"scattercarpet\",\"marker\":{\"colorbar\":{\"outlinewidth\":0,\"ticks\":\"\"}}}],\"carpet\":[{\"aaxis\":{\"endlinecolor\":\"#2a3f5f\",\"gridcolor\":\"white\",\"linecolor\":\"white\",\"minorgridcolor\":\"white\",\"startlinecolor\":\"#2a3f5f\"},\"baxis\":{\"endlinecolor\":\"#2a3f5f\",\"gridcolor\":\"white\",\"linecolor\":\"white\",\"minorgridcolor\":\"white\",\"startlinecolor\":\"#2a3f5f\"},\"type\":\"carpet\"}],\"table\":[{\"cells\":{\"fill\":{\"color\":\"#EBF0F8\"},\"line\":{\"color\":\"white\"}},\"header\":{\"fill\":{\"color\":\"#C8D4E3\"},\"line\":{\"color\":\"white\"}},\"type\":\"table\"}],\"barpolar\":[{\"marker\":{\"line\":{\"color\":\"#E5ECF6\",\"width\":0.5},\"pattern\":{\"fillmode\":\"overlay\",\"size\":10,\"solidity\":0.2}},\"type\":\"barpolar\"}],\"pie\":[{\"automargin\":true,\"type\":\"pie\"}]},\"layout\":{\"autotypenumbers\":\"strict\",\"colorway\":[\"#636efa\",\"#EF553B\",\"#00cc96\",\"#ab63fa\",\"#FFA15A\",\"#19d3f3\",\"#FF6692\",\"#B6E880\",\"#FF97FF\",\"#FECB52\"],\"font\":{\"color\":\"#2a3f5f\"},\"hovermode\":\"closest\",\"hoverlabel\":{\"align\":\"left\"},\"paper_bgcolor\":\"white\",\"plot_bgcolor\":\"#E5ECF6\",\"polar\":{\"bgcolor\":\"#E5ECF6\",\"angularaxis\":{\"gridcolor\":\"white\",\"linecolor\":\"white\",\"ticks\":\"\"},\"radialaxis\":{\"gridcolor\":\"white\",\"linecolor\":\"white\",\"ticks\":\"\"}},\"ternary\":{\"bgcolor\":\"#E5ECF6\",\"aaxis\":{\"gridcolor\":\"white\",\"linecolor\":\"white\",\"ticks\":\"\"},\"baxis\":{\"gridcolor\":\"white\",\"linecolor\":\"white\",\"ticks\":\"\"},\"caxis\":{\"gridcolor\":\"white\",\"linecolor\":\"white\",\"ticks\":\"\"}},\"coloraxis\":{\"colorbar\":{\"outlinewidth\":0,\"ticks\":\"\"}},\"colorscale\":{\"sequential\":[[0.0,\"#0d0887\"],[0.1111111111111111,\"#46039f\"],[0.2222222222222222,\"#7201a8\"],[0.3333333333333333,\"#9c179e\"],[0.4444444444444444,\"#bd3786\"],[0.5555555555555556,\"#d8576b\"],[0.6666666666666666,\"#ed7953\"],[0.7777777777777778,\"#fb9f3a\"],[0.8888888888888888,\"#fdca26\"],[1.0,\"#f0f921\"]],\"sequentialminus\":[[0.0,\"#0d0887\"],[0.1111111111111111,\"#46039f\"],[0.2222222222222222,\"#7201a8\"],[0.3333333333333333,\"#9c179e\"],[0.4444444444444444,\"#bd3786\"],[0.5555555555555556,\"#d8576b\"],[0.6666666666666666,\"#ed7953\"],[0.7777777777777778,\"#fb9f3a\"],[0.8888888888888888,\"#fdca26\"],[1.0,\"#f0f921\"]],\"diverging\":[[0,\"#8e0152\"],[0.1,\"#c51b7d\"],[0.2,\"#de77ae\"],[0.3,\"#f1b6da\"],[0.4,\"#fde0ef\"],[0.5,\"#f7f7f7\"],[0.6,\"#e6f5d0\"],[0.7,\"#b8e186\"],[0.8,\"#7fbc41\"],[0.9,\"#4d9221\"],[1,\"#276419\"]]},\"xaxis\":{\"gridcolor\":\"white\",\"linecolor\":\"white\",\"ticks\":\"\",\"title\":{\"standoff\":15},\"zerolinecolor\":\"white\",\"automargin\":true,\"zerolinewidth\":2},\"yaxis\":{\"gridcolor\":\"white\",\"linecolor\":\"white\",\"ticks\":\"\",\"title\":{\"standoff\":15},\"zerolinecolor\":\"white\",\"automargin\":true,\"zerolinewidth\":2},\"scene\":{\"xaxis\":{\"backgroundcolor\":\"#E5ECF6\",\"gridcolor\":\"white\",\"linecolor\":\"white\",\"showbackground\":true,\"ticks\":\"\",\"zerolinecolor\":\"white\",\"gridwidth\":2},\"yaxis\":{\"backgroundcolor\":\"#E5ECF6\",\"gridcolor\":\"white\",\"linecolor\":\"white\",\"showbackground\":true,\"ticks\":\"\",\"zerolinecolor\":\"white\",\"gridwidth\":2},\"zaxis\":{\"backgroundcolor\":\"#E5ECF6\",\"gridcolor\":\"white\",\"linecolor\":\"white\",\"showbackground\":true,\"ticks\":\"\",\"zerolinecolor\":\"white\",\"gridwidth\":2}},\"shapedefaults\":{\"line\":{\"color\":\"#2a3f5f\"}},\"annotationdefaults\":{\"arrowcolor\":\"#2a3f5f\",\"arrowhead\":0,\"arrowwidth\":1},\"geo\":{\"bgcolor\":\"white\",\"landcolor\":\"#E5ECF6\",\"subunitcolor\":\"white\",\"showland\":true,\"showlakes\":true,\"lakecolor\":\"white\"},\"title\":{\"x\":0.05},\"mapbox\":{\"style\":\"light\"}}},\"xaxis\":{\"anchor\":\"y\",\"domain\":[0.0,1.0],\"title\":{\"text\":\"componente_1\"}},\"yaxis\":{\"anchor\":\"x\",\"domain\":[0.0,1.0],\"title\":{\"text\":\"componente_2\"}},\"coloraxis\":{\"colorbar\":{\"title\":{\"text\":\"color\"}},\"colorscale\":[[0.0,\"#0d0887\"],[0.1111111111111111,\"#46039f\"],[0.2222222222222222,\"#7201a8\"],[0.3333333333333333,\"#9c179e\"],[0.4444444444444444,\"#bd3786\"],[0.5555555555555556,\"#d8576b\"],[0.6666666666666666,\"#ed7953\"],[0.7777777777777778,\"#fb9f3a\"],[0.8888888888888888,\"#fdca26\"],[1.0,\"#f0f921\"]]},\"legend\":{\"tracegroupgap\":0},\"margin\":{\"t\":60},\"width\":800},                        {\"responsive\": true}                    ).then(function(){\n",
              "                            \n",
              "var gd = document.getElementById('73b0ecd6-13eb-43ae-be2a-1a6ebc6702a3');\n",
              "var x = new MutationObserver(function (mutations, observer) {{\n",
              "        var display = window.getComputedStyle(gd).display;\n",
              "        if (!display || display === 'none') {{\n",
              "            console.log([gd, 'removed!']);\n",
              "            Plotly.purge(gd);\n",
              "            observer.disconnect();\n",
              "        }}\n",
              "}});\n",
              "\n",
              "// Listen for the removal of the full notebook cells\n",
              "var notebookContainer = gd.closest('#notebook-container');\n",
              "if (notebookContainer) {{\n",
              "    x.observe(notebookContainer, {childList: true});\n",
              "}}\n",
              "\n",
              "// Listen for the clearing of the current output cell\n",
              "var outputEl = gd.closest('.output');\n",
              "if (outputEl) {{\n",
              "    x.observe(outputEl, {childList: true});\n",
              "}}\n",
              "\n",
              "                        })                };                            </script>        </div>\n",
              "</body>\n",
              "</html>"
            ]
          },
          "metadata": {}
        }
      ]
    }
  ]
}